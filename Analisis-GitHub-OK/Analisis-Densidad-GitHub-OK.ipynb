{
 "cells": [
  {
   "cell_type": "code",
   "execution_count": 2,
   "metadata": {
    "colab": {
     "base_uri": "https://localhost:8080/"
    },
    "executionInfo": {
     "elapsed": 12539,
     "status": "ok",
     "timestamp": 1753380872175,
     "user": {
      "displayName": "Marcelo Puiatti",
      "userId": "03743282027942698830"
     },
     "user_tz": 180
    },
    "id": "NoUJVasSpHOr",
    "outputId": "65889968-25a9-47d1-faed-13eae19a9c2c"
   },
   "outputs": [
    {
     "name": "stdout",
     "output_type": "stream",
     "text": [
      "Requirement already satisfied: MDAnalysis in /usr/local/python/3.12.1/lib/python3.12/site-packages (2.9.0)\n",
      "Requirement already satisfied: numpy>=1.23.2 in /home/codespace/.local/lib/python3.12/site-packages (from MDAnalysis) (2.3.1)\n",
      "Requirement already satisfied: GridDataFormats>=0.4.0 in /usr/local/python/3.12.1/lib/python3.12/site-packages (from MDAnalysis) (1.0.2)\n",
      "Requirement already satisfied: mmtf-python>=1.0.0 in /usr/local/python/3.12.1/lib/python3.12/site-packages (from MDAnalysis) (1.1.3)\n",
      "Requirement already satisfied: joblib>=0.12 in /home/codespace/.local/lib/python3.12/site-packages (from MDAnalysis) (1.5.1)\n",
      "Requirement already satisfied: scipy>=1.5.0 in /home/codespace/.local/lib/python3.12/site-packages (from MDAnalysis) (1.16.0)\n",
      "Requirement already satisfied: matplotlib>=1.5.1 in /home/codespace/.local/lib/python3.12/site-packages (from MDAnalysis) (3.10.3)\n",
      "Requirement already satisfied: tqdm>=4.43.0 in /usr/local/python/3.12.1/lib/python3.12/site-packages (from MDAnalysis) (4.67.1)\n",
      "Requirement already satisfied: threadpoolctl in /home/codespace/.local/lib/python3.12/site-packages (from MDAnalysis) (3.6.0)\n",
      "Requirement already satisfied: packaging in /home/codespace/.local/lib/python3.12/site-packages (from MDAnalysis) (25.0)\n",
      "Requirement already satisfied: filelock in /home/codespace/.local/lib/python3.12/site-packages (from MDAnalysis) (3.13.1)\n",
      "Requirement already satisfied: mda-xdrlib in /usr/local/python/3.12.1/lib/python3.12/site-packages (from MDAnalysis) (0.2.0)\n",
      "Requirement already satisfied: mrcfile in /usr/local/python/3.12.1/lib/python3.12/site-packages (from GridDataFormats>=0.4.0->MDAnalysis) (1.5.4)\n",
      "Requirement already satisfied: contourpy>=1.0.1 in /home/codespace/.local/lib/python3.12/site-packages (from matplotlib>=1.5.1->MDAnalysis) (1.3.2)\n",
      "Requirement already satisfied: cycler>=0.10 in /home/codespace/.local/lib/python3.12/site-packages (from matplotlib>=1.5.1->MDAnalysis) (0.12.1)\n",
      "Requirement already satisfied: fonttools>=4.22.0 in /home/codespace/.local/lib/python3.12/site-packages (from matplotlib>=1.5.1->MDAnalysis) (4.58.5)\n",
      "Requirement already satisfied: kiwisolver>=1.3.1 in /home/codespace/.local/lib/python3.12/site-packages (from matplotlib>=1.5.1->MDAnalysis) (1.4.8)\n",
      "Requirement already satisfied: pillow>=8 in /home/codespace/.local/lib/python3.12/site-packages (from matplotlib>=1.5.1->MDAnalysis) (11.3.0)\n",
      "Requirement already satisfied: pyparsing>=2.3.1 in /home/codespace/.local/lib/python3.12/site-packages (from matplotlib>=1.5.1->MDAnalysis) (3.2.3)\n",
      "Requirement already satisfied: python-dateutil>=2.7 in /home/codespace/.local/lib/python3.12/site-packages (from matplotlib>=1.5.1->MDAnalysis) (2.9.0.post0)\n",
      "Requirement already satisfied: msgpack>=1.0.0 in /usr/local/python/3.12.1/lib/python3.12/site-packages (from mmtf-python>=1.0.0->MDAnalysis) (1.1.1)\n",
      "Requirement already satisfied: six>=1.5 in /home/codespace/.local/lib/python3.12/site-packages (from python-dateutil>=2.7->matplotlib>=1.5.1->MDAnalysis) (1.17.0)\n",
      "Requirement already satisfied: lipyphilic in /usr/local/python/3.12.1/lib/python3.12/site-packages (0.12.1)\n",
      "Requirement already satisfied: attrs in /home/codespace/.local/lib/python3.12/site-packages (from lipyphilic) (25.3.0)\n",
      "Requirement already satisfied: numpy in /home/codespace/.local/lib/python3.12/site-packages (from lipyphilic) (2.3.1)\n",
      "Requirement already satisfied: scipy in /home/codespace/.local/lib/python3.12/site-packages (from lipyphilic) (1.16.0)\n",
      "Requirement already satisfied: networkx in /home/codespace/.local/lib/python3.12/site-packages (from lipyphilic) (3.3)\n",
      "Requirement already satisfied: pandas in /home/codespace/.local/lib/python3.12/site-packages (from lipyphilic) (2.3.1)\n",
      "Requirement already satisfied: matplotlib in /home/codespace/.local/lib/python3.12/site-packages (from lipyphilic) (3.10.3)\n",
      "Requirement already satisfied: mdanalysis in /usr/local/python/3.12.1/lib/python3.12/site-packages (from lipyphilic) (2.9.0)\n",
      "Requirement already satisfied: freud-analysis in /usr/local/python/3.12.1/lib/python3.12/site-packages (from lipyphilic) (3.3.1)\n",
      "Requirement already satisfied: tidynamics in /usr/local/python/3.12.1/lib/python3.12/site-packages (from lipyphilic) (1.1.2)\n",
      "Requirement already satisfied: seaborn in /home/codespace/.local/lib/python3.12/site-packages (from lipyphilic) (0.13.2)\n",
      "Requirement already satisfied: tqdm in /usr/local/python/3.12.1/lib/python3.12/site-packages (from lipyphilic) (4.67.1)\n",
      "Requirement already satisfied: setuptools in /home/codespace/.local/lib/python3.12/site-packages (from lipyphilic) (80.9.0)\n",
      "Requirement already satisfied: rowan>=1.2.1 in /usr/local/python/3.12.1/lib/python3.12/site-packages (from freud-analysis->lipyphilic) (1.3.2)\n",
      "Requirement already satisfied: parsnip-cif>=0.2.0 in /usr/local/python/3.12.1/lib/python3.12/site-packages (from freud-analysis->lipyphilic) (0.3.0)\n",
      "Requirement already satisfied: more-itertools in /usr/local/python/3.12.1/lib/python3.12/site-packages (from parsnip-cif>=0.2.0->freud-analysis->lipyphilic) (10.7.0)\n",
      "Requirement already satisfied: contourpy>=1.0.1 in /home/codespace/.local/lib/python3.12/site-packages (from matplotlib->lipyphilic) (1.3.2)\n",
      "Requirement already satisfied: cycler>=0.10 in /home/codespace/.local/lib/python3.12/site-packages (from matplotlib->lipyphilic) (0.12.1)\n",
      "Requirement already satisfied: fonttools>=4.22.0 in /home/codespace/.local/lib/python3.12/site-packages (from matplotlib->lipyphilic) (4.58.5)\n",
      "Requirement already satisfied: kiwisolver>=1.3.1 in /home/codespace/.local/lib/python3.12/site-packages (from matplotlib->lipyphilic) (1.4.8)\n",
      "Requirement already satisfied: packaging>=20.0 in /home/codespace/.local/lib/python3.12/site-packages (from matplotlib->lipyphilic) (25.0)\n",
      "Requirement already satisfied: pillow>=8 in /home/codespace/.local/lib/python3.12/site-packages (from matplotlib->lipyphilic) (11.3.0)\n",
      "Requirement already satisfied: pyparsing>=2.3.1 in /home/codespace/.local/lib/python3.12/site-packages (from matplotlib->lipyphilic) (3.2.3)\n",
      "Requirement already satisfied: python-dateutil>=2.7 in /home/codespace/.local/lib/python3.12/site-packages (from matplotlib->lipyphilic) (2.9.0.post0)\n",
      "Requirement already satisfied: six>=1.5 in /home/codespace/.local/lib/python3.12/site-packages (from python-dateutil>=2.7->matplotlib->lipyphilic) (1.17.0)\n",
      "Requirement already satisfied: GridDataFormats>=0.4.0 in /usr/local/python/3.12.1/lib/python3.12/site-packages (from mdanalysis->lipyphilic) (1.0.2)\n",
      "Requirement already satisfied: mmtf-python>=1.0.0 in /usr/local/python/3.12.1/lib/python3.12/site-packages (from mdanalysis->lipyphilic) (1.1.3)\n",
      "Requirement already satisfied: joblib>=0.12 in /home/codespace/.local/lib/python3.12/site-packages (from mdanalysis->lipyphilic) (1.5.1)\n",
      "Requirement already satisfied: threadpoolctl in /home/codespace/.local/lib/python3.12/site-packages (from mdanalysis->lipyphilic) (3.6.0)\n",
      "Requirement already satisfied: filelock in /home/codespace/.local/lib/python3.12/site-packages (from mdanalysis->lipyphilic) (3.13.1)\n",
      "Requirement already satisfied: mda-xdrlib in /usr/local/python/3.12.1/lib/python3.12/site-packages (from mdanalysis->lipyphilic) (0.2.0)\n",
      "Requirement already satisfied: mrcfile in /usr/local/python/3.12.1/lib/python3.12/site-packages (from GridDataFormats>=0.4.0->mdanalysis->lipyphilic) (1.5.4)\n",
      "Requirement already satisfied: msgpack>=1.0.0 in /usr/local/python/3.12.1/lib/python3.12/site-packages (from mmtf-python>=1.0.0->mdanalysis->lipyphilic) (1.1.1)\n",
      "Requirement already satisfied: pytz>=2020.1 in /home/codespace/.local/lib/python3.12/site-packages (from pandas->lipyphilic) (2025.2)\n",
      "Requirement already satisfied: tzdata>=2022.7 in /home/codespace/.local/lib/python3.12/site-packages (from pandas->lipyphilic) (2025.2)\n",
      "Requirement already satisfied: hmmlearn in /usr/local/python/3.12.1/lib/python3.12/site-packages (0.3.3)\n",
      "Requirement already satisfied: numpy>=1.10 in /home/codespace/.local/lib/python3.12/site-packages (from hmmlearn) (2.3.1)\n",
      "Requirement already satisfied: scikit-learn!=0.22.0,>=0.16 in /home/codespace/.local/lib/python3.12/site-packages (from hmmlearn) (1.7.0)\n",
      "Requirement already satisfied: scipy>=0.19 in /home/codespace/.local/lib/python3.12/site-packages (from hmmlearn) (1.16.0)\n",
      "Requirement already satisfied: joblib>=1.2.0 in /home/codespace/.local/lib/python3.12/site-packages (from scikit-learn!=0.22.0,>=0.16->hmmlearn) (1.5.1)\n",
      "Requirement already satisfied: threadpoolctl>=3.1.0 in /home/codespace/.local/lib/python3.12/site-packages (from scikit-learn!=0.22.0,>=0.16->hmmlearn) (3.6.0)\n"
     ]
    }
   ],
   "source": [
    "!pip install MDAnalysis\n",
    "!pip install lipyphilic\n",
    "!pip install hmmlearn"
   ]
  },
  {
   "cell_type": "code",
   "execution_count": 1,
   "metadata": {
    "id": "TAec-9x9o_6j"
   },
   "outputs": [
    {
     "name": "stderr",
     "output_type": "stream",
     "text": [
      "/usr/local/python/3.12.1/lib/python3.12/site-packages/tqdm/auto.py:21: TqdmWarning: IProgress not found. Please update jupyter and ipywidgets. See https://ipywidgets.readthedocs.io/en/stable/user_install.html\n",
      "  from .autonotebook import tqdm as notebook_tqdm\n"
     ]
    }
   ],
   "source": [
    "import pathlib\n",
    "import pickle  # this library is used for saving the analysis objects to file\n",
    "import joblib\n",
    "import os\n",
    "\n",
    "import numpy as np\n",
    "import MDAnalysis as mda\n",
    "import lipyphilic as lpp\n",
    "import matplotlib.pyplot as plt\n",
    "import seaborn as sns\n",
    "import pandas as pd\n",
    "import sklearn.mixture\n",
    "import hmmlearn.hmm\n",
    "import matplotlib\n",
    "import plotly.graph_objects as go\n",
    "\n"
   ]
  },
  {
   "cell_type": "code",
   "execution_count": 3,
   "metadata": {},
   "outputs": [
    {
     "name": "stdout",
     "output_type": "stream",
     "text": [
      "         bin  DPPC         W  CHOL  Tail  Gli  Fosf  ZNPC  Lipid  DPPC_smooth  \\\n",
      "0 -67.641555   0.0  0.963729   0.0   0.0  0.0   0.0   0.0    0.0          NaN   \n",
      "1 -67.141555   0.0  0.959132   0.0   0.0  0.0   0.0   0.0    0.0          NaN   \n",
      "2 -66.641555   0.0  0.959044   0.0   0.0  0.0   0.0   0.0    0.0          NaN   \n",
      "3 -66.141555   0.0  0.958560   0.0   0.0  0.0   0.0   0.0    0.0          NaN   \n",
      "4 -65.641555   0.0  0.958303   0.0   0.0  0.0   0.0   0.0    0.0          0.0   \n",
      "\n",
      "   W_smooth  CHOL_smooth  Tail_smooth  Gli_smooth  Fosf_smooth  ZNPC_smooth  \\\n",
      "0       NaN          NaN          NaN         NaN          NaN          NaN   \n",
      "1       NaN          NaN          NaN         NaN          NaN          NaN   \n",
      "2       NaN          NaN          NaN         NaN          NaN          NaN   \n",
      "3       NaN          NaN          NaN         NaN          NaN          NaN   \n",
      "4  0.959754          0.0          0.0         0.0          0.0          0.0   \n",
      "\n",
      "   Lipid_smooth  \n",
      "0           NaN  \n",
      "1           NaN  \n",
      "2           NaN  \n",
      "3           NaN  \n",
      "4           0.0  \n"
     ]
    }
   ],
   "source": [
    "# Read the CSV file with space separation and multiple spaces treated as one separator\n",
    "new_df = pd.read_csv('./linear_density-OK.csv')\n",
    "\n",
    "# If you need to clean up column names (remove extra spaces)\n",
    "new_df.columns = new_df.columns.str.strip()\n",
    "\n",
    "print(new_df.head())"
   ]
  },
  {
   "cell_type": "markdown",
   "metadata": {
    "id": "nDPt2LADo_6m"
   },
   "source": [
    "# Densidad"
   ]
  },
  {
   "cell_type": "code",
   "execution_count": 4,
   "metadata": {},
   "outputs": [],
   "source": [
    "## Hago un suavizado de los valores de densidad para que el grafico quede mejor:\n",
    "# Apply rolling average with window size of 5 (change size as needed)\n",
    "new_df['Lipid_smooth'] = new_df['Lipid'].rolling(window=5).mean()\n",
    "new_df['DPPC_smooth'] = new_df['DPPC'].rolling(window=5).mean()\n",
    "new_df['W_smooth'] = new_df['W'].rolling(window=5).mean()\n",
    "new_df['CHOL_smooth'] = new_df['CHOL'].rolling(window=5).mean()\n",
    "new_df['Tail_smooth'] = new_df['Tail'].rolling(window=5).mean()\n",
    "new_df['Gli_smooth'] = new_df['Gli'].rolling(window=5).mean()\n",
    "new_df['Fosf_smooth'] = new_df['Fosf'].rolling(window=5).mean()\n",
    "new_df['ZNPC_smooth'] = new_df['ZNPC'].rolling(window=5).mean()\n",
    "new_df['Tail_smooth'] = new_df['Tail'].rolling(window=5).mean()"
   ]
  },
  {
   "cell_type": "code",
   "execution_count": 5,
   "metadata": {
    "colab": {
     "base_uri": "https://localhost:8080/",
     "height": 617
    },
    "executionInfo": {
     "elapsed": 207,
     "status": "ok",
     "timestamp": 1753382581642,
     "user": {
      "displayName": "Marcelo Puiatti",
      "userId": "03743282027942698830"
     },
     "user_tz": 180
    },
    "id": "GaJEVQ80o_6o",
    "outputId": "7435b8f1-4248-478c-f7ff-e0b2c52d21bf"
   },
   "outputs": [
    {
     "data": {
      "application/vnd.plotly.v1+json": {
       "config": {
        "plotlyServerURL": "https://plot.ly"
       },
       "data": [
        {
         "line": {
          "color": "green"
         },
         "mode": "lines",
         "name": "DPPC",
         "type": "scatter",
         "x": {
          "bdata": "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",
          "dtype": "f8"
         },
         "y": {
          "bdata": "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",
          "dtype": "f8"
         }
        },
        {
         "line": {
          "color": "blue"
         },
         "mode": "lines",
         "name": "W",
         "type": "scatter",
         "x": {
          "bdata": "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",
          "dtype": "f8"
         },
         "y": {
          "bdata": "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",
          "dtype": "f8"
         }
        },
        {
         "line": {
          "color": "red"
         },
         "mode": "lines",
         "name": "CHOL",
         "type": "scatter",
         "x": {
          "bdata": "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",
          "dtype": "f8"
         },
         "y": {
          "bdata": "AAAAAAAA+H8AAAAAAAD4fwAAAAAAAPh/AAAAAAAA+H8AAAAAAAAAAAAAAAAAAAAAAAAAAAAAAAAAAAAAAAAAAAAAAAAAAAAAAAAAAAAAAAAAAAAAAAAAAAAAAAAAAAAAAAAAAAAAAAAAAAAAAAAAAAAAAAAAAAAAAAAAAAAAAAAAAAAAAAAAAAAAAAAAAAAAAAAAAAAAAAAAAAAAAAAAAAAAAAAAAAAAAAAAAAAAAAAAAAAAAAAAAAAAAAAAAAAAAAAAAAAAAAAAAAAAAAAAAAAAAAAAAAAAAAAAAAAAAAAAAAAAAAAAAAAAAAAAAAAAAAAAAAAAAAAAAAAAAAAAAAAAAAAAAAAAAAAAAAAAAAAAAAAAAAAAAAAAAAAAAAAAAAAAAAAAAAAAAAAAAAAAAAAAAAAAAAAAAAAAAAAAAAAAAAAAAAAAAAAAAAAAAAAAAAAAAAAAAAAAAAAAAAAAAAAAAAAAAAAAAAAAAAAAAAAAAAAAAAAAAAAAAAAAAAAAAAAAAAAAAAAAAAAAAAAAAAAAAAAAAAAAAAAAAAAAAAAAAAAAAAAAAAAAAAAAAAAAAAAAAAAAAAAAAAAAAAAAAAAAAAAAAAAAAAAAAAAAAAAAAAAAAAAAAAAAAAAAAAAAAAAAAAAAAAAAAAAAAAAAAAAAAAAAAAAAAAAAAAAAAAAAAAAAAAAAAAAAAAAAAAAAAAAAAAAAAAAAAAAAAAAAAAAAAAAAAAAAAAAAAAAAAAAAAAAAAAAAAAAAAAAAAAAAAAAAAAAAAAAAAAAAAAAAAAAAAAAAAAAAAAAAAAAAAAAAAAAAAAAAAAAAAAAAAAAAAAAAAAAAAAAAAAAAAAAAAAAAAAAAAAAAAAAAAAAAAAAAAAAAAAAAAAAAAAAAAAAAAAAAAAAAAAAAAAAAAAAAAAAAAAAAAAAAAAAAAAAAAAAAAAAAAAAAAAAAAAAAAAAAAAAAAAAAAAAAAAAAAAAAAAAAAAAAAAAAAAAAAAAAAAAAAAAAAAAAAAAAAAAAAAAAAAAAAAAAAAAAAAAAAAAAAAAAAAAAAAAAAAAAAAAAAAAAAAAAAAAAAAAAAAAAAAAAAAAAAAAAAAAAAAAAAAAAAAAAAAAAAAAAAAAAAAAAAAAAAAAAAAAAAAAAAAAAAAAAAAAAAAAAAAAAAAAAAAAAAAAAAAAAAAAAAAAAAAAAAAAAAAAAAAAAAAAAAAAAAAAAAAAAAAAAAAAAAAAAAAAAAAAAAAAAAAAAAAAAAAAAAAAAAAAAAAAAAAAAAAAAAAAAAAAAAAAAAAAAAAAAAAAAAAAAAAAAAAAAAAAAAAAAAAAAAAAAAAAAAAAAAAAAAAAAAAAAAAAAAAAAAAAAAAAAAAAAAAAAAAAAAAAAAAAAAAAAAAAAAAAAAAAAAAAAAAAAAAAAAAAAAAAAAAAAAAAAAAAAAAAAAAAAAAAAAAAAAAAAAAAAAAAAAAAAAAAAAAAAAAAAAAAAAAAAAAAAAAAAAAAAAAAAAAAAAAAAAAAAAAAAAAAAAAAAAAAAAAAAAAAAAAAAAAAAAAAAAAAAAAAAAAAAAAAAAAAAAAAAAAAAAAAAAAAAAAAAAAAAAAAAAAAAAAAAAAAAAAAAAAAAAAAAAAAAAAAAAAAAAAAAAAAAAAAAAAAAAAAAAAAAAAAAAAAAAAAAAAAAAAAAAAAAAAAAAAAAAAAAAAAAAAAAAAAAAAAAAAAAAAAAAAAAAAAAAAAAAAAAAAAAAAAAAAAAAAAAAAAAAAAAAAAAAAAAAAAAAAAAAAAAAAAAAAAAAAAAAAAAAAAAAAAAAAAAAAAAAAAAAAAAAAAAAAAAAAAAAAAAAAAAAAAAAAAAAAAAAAAAAAAAAAAAAAAAAAAAAAAAAAAAAAAAAAAAAAAAAAAAAAAAAAAAAAAAAAAAAAAAAAAAAAAAAAAAAAAAAAAAAAAAAAAAAAAAAAAAAAAAAAAAAAAAAAAAAAAAAAAAAAAAAAAAAAAAAAAAAAAAAAAAAAAAAAAAAAAAAAAAAAAAAAAAAAAAAAAAAAAAAAAAAAAAAAAAAAAAAAAAAAAAAAAAAAAAAAAAAAAAAAAAAAAAAAAAAAAAAAAAAAAAAAAAAAAAAAAAAAAAAAAAAAAAAAAAAAAAAAAAAAAAAAAAAAAAAAAAAAAAAAAAAAAAAAAAAAAAAAAAAAAAAAAAAAAAAAAAAAAAAAAAAAAAAAAAAAAAAAAAAAAAAAAAAAAAAAAAAAAAAAAAAAAAAAAAAAAAAAAAAAAAAAAAAAAAAAAAAAAAAAAAAAAAAAAAAAAAAAAAAAAAAAAAAAAAAAAAAAAAAAAAAAAAAAAAAAAAAAAAAAAAAAAAAAAAAAAAAAAAAAAAAAAAAAAAAAAAAAAAAAAAAAAAAAAAAAAAAAAAAAAAAAAAAAAAAAAAAAAAAAAAAAAAAAAAAAAAAAAAAAAAAAAAAAAAAAAAAAAAAAAAAAAAAAAAAAAAAAAAAAAAAAAAAAAAAAAAAAAAAAAAAAAAAAAAAAAAAAAAAAAAAAAAAAAAAAAAAAAAAAAAAAAAAAAAAAAAAAAAAAAAAAAAAAAAAAAAAAAAAAAAAAAAAAAAAAAAAAAAAAAAAAAAAAAAAAAAAAAAAAAAAAAAAAAAAAAAAAAAAAAAAAAAAAAAAAAAAAAAAAAAAAAAAAAAAAAAAAAAAAAAAAAAAAAAAAAAAAAAAAAAAAAAAAAAAAAAAAAAAAAAAAAAAAAAAAAAAAAAAAAAAAAAAAAAAAAAAAAAAAAAAAAAAAAAAAAAAAAAAAAAAAAAAAAAAAAAAAAAAAAAAAAAAAAAAAAAAAAAAAAA",
          "dtype": "f8"
         }
        },
        {
         "line": {
          "color": "orange"
         },
         "mode": "lines",
         "name": "Glicerol",
         "type": "scatter",
         "x": {
          "bdata": "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",
          "dtype": "f8"
         },
         "y": {
          "bdata": "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",
          "dtype": "f8"
         }
        },
        {
         "line": {
          "color": "purple"
         },
         "mode": "lines",
         "name": "Fosfate",
         "type": "scatter",
         "x": {
          "bdata": "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",
          "dtype": "f8"
         },
         "y": {
          "bdata": "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",
          "dtype": "f8"
         }
        },
        {
         "line": {
          "color": "black"
         },
         "mode": "lines",
         "name": "Lipid tail",
         "type": "scatter",
         "x": {
          "bdata": "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",
          "dtype": "f8"
         },
         "y": {
          "bdata": "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",
          "dtype": "f8"
         }
        },
        {
         "line": {
          "color": "lightblue"
         },
         "mode": "lines",
         "name": "ZNPC",
         "type": "scatter",
         "x": {
          "bdata": "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",
          "dtype": "f8"
         },
         "y": {
          "bdata": "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",
          "dtype": "f8"
         }
        },
        {
         "line": {
          "color": "lightblue"
         },
         "mode": "lines",
         "name": "Lipids",
         "type": "scatter",
         "x": {
          "bdata": "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",
          "dtype": "f8"
         },
         "y": {
          "bdata": "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",
          "dtype": "f8"
         }
        }
       ],
       "layout": {
        "height": 600,
        "legend": {
         "title": {
          "text": "Components"
         }
        },
        "template": {
         "data": {
          "bar": [
           {
            "error_x": {
             "color": "#2a3f5f"
            },
            "error_y": {
             "color": "#2a3f5f"
            },
            "marker": {
             "line": {
              "color": "white",
              "width": 0.5
             },
             "pattern": {
              "fillmode": "overlay",
              "size": 10,
              "solidity": 0.2
             }
            },
            "type": "bar"
           }
          ],
          "barpolar": [
           {
            "marker": {
             "line": {
              "color": "white",
              "width": 0.5
             },
             "pattern": {
              "fillmode": "overlay",
              "size": 10,
              "solidity": 0.2
             }
            },
            "type": "barpolar"
           }
          ],
          "carpet": [
           {
            "aaxis": {
             "endlinecolor": "#2a3f5f",
             "gridcolor": "#C8D4E3",
             "linecolor": "#C8D4E3",
             "minorgridcolor": "#C8D4E3",
             "startlinecolor": "#2a3f5f"
            },
            "baxis": {
             "endlinecolor": "#2a3f5f",
             "gridcolor": "#C8D4E3",
             "linecolor": "#C8D4E3",
             "minorgridcolor": "#C8D4E3",
             "startlinecolor": "#2a3f5f"
            },
            "type": "carpet"
           }
          ],
          "choropleth": [
           {
            "colorbar": {
             "outlinewidth": 0,
             "ticks": ""
            },
            "type": "choropleth"
           }
          ],
          "contour": [
           {
            "colorbar": {
             "outlinewidth": 0,
             "ticks": ""
            },
            "colorscale": [
             [
              0,
              "#0d0887"
             ],
             [
              0.1111111111111111,
              "#46039f"
             ],
             [
              0.2222222222222222,
              "#7201a8"
             ],
             [
              0.3333333333333333,
              "#9c179e"
             ],
             [
              0.4444444444444444,
              "#bd3786"
             ],
             [
              0.5555555555555556,
              "#d8576b"
             ],
             [
              0.6666666666666666,
              "#ed7953"
             ],
             [
              0.7777777777777778,
              "#fb9f3a"
             ],
             [
              0.8888888888888888,
              "#fdca26"
             ],
             [
              1,
              "#f0f921"
             ]
            ],
            "type": "contour"
           }
          ],
          "contourcarpet": [
           {
            "colorbar": {
             "outlinewidth": 0,
             "ticks": ""
            },
            "type": "contourcarpet"
           }
          ],
          "heatmap": [
           {
            "colorbar": {
             "outlinewidth": 0,
             "ticks": ""
            },
            "colorscale": [
             [
              0,
              "#0d0887"
             ],
             [
              0.1111111111111111,
              "#46039f"
             ],
             [
              0.2222222222222222,
              "#7201a8"
             ],
             [
              0.3333333333333333,
              "#9c179e"
             ],
             [
              0.4444444444444444,
              "#bd3786"
             ],
             [
              0.5555555555555556,
              "#d8576b"
             ],
             [
              0.6666666666666666,
              "#ed7953"
             ],
             [
              0.7777777777777778,
              "#fb9f3a"
             ],
             [
              0.8888888888888888,
              "#fdca26"
             ],
             [
              1,
              "#f0f921"
             ]
            ],
            "type": "heatmap"
           }
          ],
          "histogram": [
           {
            "marker": {
             "pattern": {
              "fillmode": "overlay",
              "size": 10,
              "solidity": 0.2
             }
            },
            "type": "histogram"
           }
          ],
          "histogram2d": [
           {
            "colorbar": {
             "outlinewidth": 0,
             "ticks": ""
            },
            "colorscale": [
             [
              0,
              "#0d0887"
             ],
             [
              0.1111111111111111,
              "#46039f"
             ],
             [
              0.2222222222222222,
              "#7201a8"
             ],
             [
              0.3333333333333333,
              "#9c179e"
             ],
             [
              0.4444444444444444,
              "#bd3786"
             ],
             [
              0.5555555555555556,
              "#d8576b"
             ],
             [
              0.6666666666666666,
              "#ed7953"
             ],
             [
              0.7777777777777778,
              "#fb9f3a"
             ],
             [
              0.8888888888888888,
              "#fdca26"
             ],
             [
              1,
              "#f0f921"
             ]
            ],
            "type": "histogram2d"
           }
          ],
          "histogram2dcontour": [
           {
            "colorbar": {
             "outlinewidth": 0,
             "ticks": ""
            },
            "colorscale": [
             [
              0,
              "#0d0887"
             ],
             [
              0.1111111111111111,
              "#46039f"
             ],
             [
              0.2222222222222222,
              "#7201a8"
             ],
             [
              0.3333333333333333,
              "#9c179e"
             ],
             [
              0.4444444444444444,
              "#bd3786"
             ],
             [
              0.5555555555555556,
              "#d8576b"
             ],
             [
              0.6666666666666666,
              "#ed7953"
             ],
             [
              0.7777777777777778,
              "#fb9f3a"
             ],
             [
              0.8888888888888888,
              "#fdca26"
             ],
             [
              1,
              "#f0f921"
             ]
            ],
            "type": "histogram2dcontour"
           }
          ],
          "mesh3d": [
           {
            "colorbar": {
             "outlinewidth": 0,
             "ticks": ""
            },
            "type": "mesh3d"
           }
          ],
          "parcoords": [
           {
            "line": {
             "colorbar": {
              "outlinewidth": 0,
              "ticks": ""
             }
            },
            "type": "parcoords"
           }
          ],
          "pie": [
           {
            "automargin": true,
            "type": "pie"
           }
          ],
          "scatter": [
           {
            "fillpattern": {
             "fillmode": "overlay",
             "size": 10,
             "solidity": 0.2
            },
            "type": "scatter"
           }
          ],
          "scatter3d": [
           {
            "line": {
             "colorbar": {
              "outlinewidth": 0,
              "ticks": ""
             }
            },
            "marker": {
             "colorbar": {
              "outlinewidth": 0,
              "ticks": ""
             }
            },
            "type": "scatter3d"
           }
          ],
          "scattercarpet": [
           {
            "marker": {
             "colorbar": {
              "outlinewidth": 0,
              "ticks": ""
             }
            },
            "type": "scattercarpet"
           }
          ],
          "scattergeo": [
           {
            "marker": {
             "colorbar": {
              "outlinewidth": 0,
              "ticks": ""
             }
            },
            "type": "scattergeo"
           }
          ],
          "scattergl": [
           {
            "marker": {
             "colorbar": {
              "outlinewidth": 0,
              "ticks": ""
             }
            },
            "type": "scattergl"
           }
          ],
          "scattermap": [
           {
            "marker": {
             "colorbar": {
              "outlinewidth": 0,
              "ticks": ""
             }
            },
            "type": "scattermap"
           }
          ],
          "scattermapbox": [
           {
            "marker": {
             "colorbar": {
              "outlinewidth": 0,
              "ticks": ""
             }
            },
            "type": "scattermapbox"
           }
          ],
          "scatterpolar": [
           {
            "marker": {
             "colorbar": {
              "outlinewidth": 0,
              "ticks": ""
             }
            },
            "type": "scatterpolar"
           }
          ],
          "scatterpolargl": [
           {
            "marker": {
             "colorbar": {
              "outlinewidth": 0,
              "ticks": ""
             }
            },
            "type": "scatterpolargl"
           }
          ],
          "scatterternary": [
           {
            "marker": {
             "colorbar": {
              "outlinewidth": 0,
              "ticks": ""
             }
            },
            "type": "scatterternary"
           }
          ],
          "surface": [
           {
            "colorbar": {
             "outlinewidth": 0,
             "ticks": ""
            },
            "colorscale": [
             [
              0,
              "#0d0887"
             ],
             [
              0.1111111111111111,
              "#46039f"
             ],
             [
              0.2222222222222222,
              "#7201a8"
             ],
             [
              0.3333333333333333,
              "#9c179e"
             ],
             [
              0.4444444444444444,
              "#bd3786"
             ],
             [
              0.5555555555555556,
              "#d8576b"
             ],
             [
              0.6666666666666666,
              "#ed7953"
             ],
             [
              0.7777777777777778,
              "#fb9f3a"
             ],
             [
              0.8888888888888888,
              "#fdca26"
             ],
             [
              1,
              "#f0f921"
             ]
            ],
            "type": "surface"
           }
          ],
          "table": [
           {
            "cells": {
             "fill": {
              "color": "#EBF0F8"
             },
             "line": {
              "color": "white"
             }
            },
            "header": {
             "fill": {
              "color": "#C8D4E3"
             },
             "line": {
              "color": "white"
             }
            },
            "type": "table"
           }
          ]
         },
         "layout": {
          "annotationdefaults": {
           "arrowcolor": "#2a3f5f",
           "arrowhead": 0,
           "arrowwidth": 1
          },
          "autotypenumbers": "strict",
          "coloraxis": {
           "colorbar": {
            "outlinewidth": 0,
            "ticks": ""
           }
          },
          "colorscale": {
           "diverging": [
            [
             0,
             "#8e0152"
            ],
            [
             0.1,
             "#c51b7d"
            ],
            [
             0.2,
             "#de77ae"
            ],
            [
             0.3,
             "#f1b6da"
            ],
            [
             0.4,
             "#fde0ef"
            ],
            [
             0.5,
             "#f7f7f7"
            ],
            [
             0.6,
             "#e6f5d0"
            ],
            [
             0.7,
             "#b8e186"
            ],
            [
             0.8,
             "#7fbc41"
            ],
            [
             0.9,
             "#4d9221"
            ],
            [
             1,
             "#276419"
            ]
           ],
           "sequential": [
            [
             0,
             "#0d0887"
            ],
            [
             0.1111111111111111,
             "#46039f"
            ],
            [
             0.2222222222222222,
             "#7201a8"
            ],
            [
             0.3333333333333333,
             "#9c179e"
            ],
            [
             0.4444444444444444,
             "#bd3786"
            ],
            [
             0.5555555555555556,
             "#d8576b"
            ],
            [
             0.6666666666666666,
             "#ed7953"
            ],
            [
             0.7777777777777778,
             "#fb9f3a"
            ],
            [
             0.8888888888888888,
             "#fdca26"
            ],
            [
             1,
             "#f0f921"
            ]
           ],
           "sequentialminus": [
            [
             0,
             "#0d0887"
            ],
            [
             0.1111111111111111,
             "#46039f"
            ],
            [
             0.2222222222222222,
             "#7201a8"
            ],
            [
             0.3333333333333333,
             "#9c179e"
            ],
            [
             0.4444444444444444,
             "#bd3786"
            ],
            [
             0.5555555555555556,
             "#d8576b"
            ],
            [
             0.6666666666666666,
             "#ed7953"
            ],
            [
             0.7777777777777778,
             "#fb9f3a"
            ],
            [
             0.8888888888888888,
             "#fdca26"
            ],
            [
             1,
             "#f0f921"
            ]
           ]
          },
          "colorway": [
           "#636efa",
           "#EF553B",
           "#00cc96",
           "#ab63fa",
           "#FFA15A",
           "#19d3f3",
           "#FF6692",
           "#B6E880",
           "#FF97FF",
           "#FECB52"
          ],
          "font": {
           "color": "#2a3f5f"
          },
          "geo": {
           "bgcolor": "white",
           "lakecolor": "white",
           "landcolor": "white",
           "showlakes": true,
           "showland": true,
           "subunitcolor": "#C8D4E3"
          },
          "hoverlabel": {
           "align": "left"
          },
          "hovermode": "closest",
          "mapbox": {
           "style": "light"
          },
          "paper_bgcolor": "white",
          "plot_bgcolor": "white",
          "polar": {
           "angularaxis": {
            "gridcolor": "#EBF0F8",
            "linecolor": "#EBF0F8",
            "ticks": ""
           },
           "bgcolor": "white",
           "radialaxis": {
            "gridcolor": "#EBF0F8",
            "linecolor": "#EBF0F8",
            "ticks": ""
           }
          },
          "scene": {
           "xaxis": {
            "backgroundcolor": "white",
            "gridcolor": "#DFE8F3",
            "gridwidth": 2,
            "linecolor": "#EBF0F8",
            "showbackground": true,
            "ticks": "",
            "zerolinecolor": "#EBF0F8"
           },
           "yaxis": {
            "backgroundcolor": "white",
            "gridcolor": "#DFE8F3",
            "gridwidth": 2,
            "linecolor": "#EBF0F8",
            "showbackground": true,
            "ticks": "",
            "zerolinecolor": "#EBF0F8"
           },
           "zaxis": {
            "backgroundcolor": "white",
            "gridcolor": "#DFE8F3",
            "gridwidth": 2,
            "linecolor": "#EBF0F8",
            "showbackground": true,
            "ticks": "",
            "zerolinecolor": "#EBF0F8"
           }
          },
          "shapedefaults": {
           "line": {
            "color": "#2a3f5f"
           }
          },
          "ternary": {
           "aaxis": {
            "gridcolor": "#DFE8F3",
            "linecolor": "#A2B1C6",
            "ticks": ""
           },
           "baxis": {
            "gridcolor": "#DFE8F3",
            "linecolor": "#A2B1C6",
            "ticks": ""
           },
           "bgcolor": "white",
           "caxis": {
            "gridcolor": "#DFE8F3",
            "linecolor": "#A2B1C6",
            "ticks": ""
           }
          },
          "title": {
           "x": 0.05
          },
          "xaxis": {
           "automargin": true,
           "gridcolor": "#EBF0F8",
           "linecolor": "#EBF0F8",
           "ticks": "",
           "title": {
            "standoff": 15
           },
           "zerolinecolor": "#EBF0F8",
           "zerolinewidth": 2
          },
          "yaxis": {
           "automargin": true,
           "gridcolor": "#EBF0F8",
           "linecolor": "#EBF0F8",
           "ticks": "",
           "title": {
            "standoff": 15
           },
           "zerolinecolor": "#EBF0F8",
           "zerolinewidth": 2
          }
         }
        },
        "title": {
         "text": "Linear Density Profile with Moving Average Smoothing"
        },
        "width": 800,
        "xaxis": {
         "title": {
          "text": "z(Å)"
         }
        },
        "yaxis": {
         "title": {
          "text": "Density (g/mL)"
         }
        }
       }
      }
     },
     "metadata": {},
     "output_type": "display_data"
    }
   ],
   "source": [
    "# ## Hago el grafdico de la densidad con Plotly para ver si quedo centrado o no:\n",
    "## Si cambia edito el valor del Offset para corregir\n",
    "\n",
    "# Create the plot\n",
    "fig = go.Figure()\n",
    "\n",
    "Offset= -0.85\n",
    "\n",
    "# Add traces for each smoothed line with shading\n",
    "fig.add_trace(go.Scatter(x=new_df['bin'] - Offset, y=new_df['DPPC_smooth'],\n",
    "                         mode='lines', name='DPPC', line=dict(color='green')))\n",
    "fig.add_trace(go.Scatter(x=new_df['bin']  - Offset, y=new_df['W_smooth'],\n",
    "                         mode='lines', name='W', line=dict(color='blue')))\n",
    "fig.add_trace(go.Scatter(x=new_df['bin']  - Offset, y=new_df['CHOL_smooth'],\n",
    "                         mode='lines', name='CHOL', line=dict(color='red')))\n",
    "fig.add_trace(go.Scatter(x=new_df['bin'] - Offset, y=new_df['Gli_smooth'],\n",
    "                         mode='lines', name='Glicerol', line=dict(color='orange')))\n",
    "fig.add_trace(go.Scatter(x=new_df['bin'] - Offset, y=new_df['Fosf_smooth'],\n",
    "                         mode='lines', name='Fosfate', line=dict(color='purple')))\n",
    "fig.add_trace(go.Scatter(x=new_df['bin'] - Offset, y=new_df['Tail_smooth'],\n",
    "                         mode='lines', name='Lipid tail', line=dict(color='black')))\n",
    "fig.add_trace(go.Scatter(x=new_df['bin'] - Offset, y=new_df['ZNPC_smooth'] * 5,\n",
    "                         mode='lines', name='ZNPC', line=dict(color='lightblue')))\n",
    "fig.add_trace(go.Scatter(x=new_df['bin'] - Offset, y=new_df['Lipid_smooth'],\n",
    "                         mode='lines', name='Lipids', line=dict(color='lightblue')))\n",
    "\n",
    "# Customize the layout\n",
    "fig.update_layout(\n",
    "    title='Linear Density Profile with Moving Average Smoothing',\n",
    "    xaxis_title='z(Å)',\n",
    "    yaxis_title='Density (g/mL)',\n",
    "    legend_title='Components',\n",
    "    template='plotly_white',\n",
    "    width=800,\n",
    "    height=600\n",
    ")\n",
    "\n",
    "# Show the plot\n",
    "fig.show()\n"
   ]
  },
  {
   "cell_type": "code",
   "execution_count": 6,
   "metadata": {
    "colab": {
     "base_uri": "https://localhost:8080/",
     "height": 588
    },
    "executionInfo": {
     "elapsed": 1101,
     "status": "ok",
     "timestamp": 1753382588372,
     "user": {
      "displayName": "Marcelo Puiatti",
      "userId": "03743282027942698830"
     },
     "user_tz": 180
    },
    "id": "sLxZG5FQo_6o",
    "outputId": "e165be4c-b608-4825-a15e-1d2aaf6d6a2f"
   },
   "outputs": [
    {
     "data": {
      "image/png": "[encoded data removed]",
      "text/plain": [
       "<Figure size 1000x600 with 1 Axes>"
      ]
     },
     "metadata": {},
     "output_type": "display_data"
    }
   ],
   "source": [
    "\n",
    "# Create the plot\n",
    "plt.figure(figsize=(10, 6))\n",
    "\n",
    "# Plot the smoothed lines with shading\n",
    "sns.lineplot(x=new_df['bin'] - Offset , y='Lipid_smooth', data=new_df, label='DPPC', color='black',  linewidth=3.0)\n",
    "sns.lineplot(x=new_df['bin'] - Offset, y='W_smooth', data=new_df, label='Water', color='lightblue', linewidth=3.0)\n",
    "#sns.lineplot(x=new_df['bin'] - Offset, y='CHOL_smooth', data=new_df, label='CHOL', color=CHOL_color, linewidth=3.0)\n",
    "#sns.lineplot(x=new_df['bin'] - Offset, y='Gli_smooth', data=new_df, label='Glicerol', color=SAPE_color, linewidth=3.0)\n",
    "#sns.lineplot(x=new_df['bin'] - Offset, y='Tail_smooth', data=new_df, label='Lipid tails', color=SAPI_color, linewidth=3.0)\n",
    "#sns.lineplot(x=new_df['bin'] - Offset, y='Fosf_smooth', data=new_df, label='Fosfates', color='black', linewidth=3.0)\n",
    "sns.lineplot(x=new_df['bin'] - Offset, y=new_df['ZNPC_smooth'] * 5, data=new_df, label='ZnPc', linewidth=3.0, color='red')\n",
    "\n",
    "# Fill the area under ZNPC_smooth curve\n",
    "plt.fill_between(new_df['bin'] - Offset, new_df['ZNPC_smooth'] * 5, color='red', alpha=0.3)\n",
    "# Fill the area under ZNPC_smooth curve\n",
    "plt.fill_between(new_df['bin'] - Offset, new_df['W_smooth'], color='lightblue', alpha=0.3)\n",
    "plt.fill_between(new_df['bin'] - Offset, new_df['Lipid_smooth'], color='lightgray', alpha=0.3)\n",
    "\n",
    "\n",
    "# Add a dotted line at the maximum of Gli_smooth series\n",
    "max_gli_y = new_df['Gli_smooth'].max()  # Find the maximum y-value in Gli_smooth\n",
    "max_gli_x = new_df['bin'][new_df['Gli_smooth'].idxmax()] - Offset  # Corresponding x-value with Offset applied\n",
    "max_gli_x_2 = max_gli_x * (-1)\n",
    "\n",
    "max_tail_y = new_df['Tail_smooth'].max()  # Find the maximum y-value in Gli_smooth\n",
    "max_tail_x = new_df['bin'][new_df['Tail_smooth'].idxmax()] - Offset  # Corresponding x-value with Offset applied\n",
    "max_tail_x_2 = max_tail_x * (-1)\n",
    "\n",
    "\n",
    "# Set tolerance values to make np.isclose less strict\n",
    "tolerance_rtol = 1e-2  # Relative tolerance, can be adjusted as needed\n",
    "tolerance_atol = 1e-1  # Absolute tolerance, can be adjusted as needed\n",
    "\n",
    "# Find the points where W_smooth and DPPC_smooth are approximately equal\n",
    "equal_point = new_df[np.isclose(new_df['W_smooth'], new_df['Lipid_smooth'], rtol=tolerance_rtol, atol=tolerance_atol)]\n",
    "if not equal_point.empty:\n",
    "    equal_x = equal_point['bin'].iloc[0] - Offset\n",
    "    equal_x_2 = equal_x * (-1)\n",
    "    plt.axvline(x=equal_x, color='black', linestyle=(0, (3, 5, 3, 5)), linewidth=1.5, label=None)\n",
    "    plt.axvline(x=equal_x_2, color='black', linestyle=(0, (3, 5, 3, 5)), linewidth=1.5, label=None)\n",
    "\n",
    "\n",
    "# Find the point where DPPC_smooth is higher than 0.1 and plot a vertical line\n",
    "dppc_point = new_df[new_df['Lipid_smooth'] > 0.001]\n",
    "if not dppc_point.empty:\n",
    "    dppc_x = dppc_point['bin'].iloc[0] - Offset\n",
    "    dppc_x_2 = dppc_x * (-1)\n",
    "    plt.axvline(x=dppc_x, color='black', linestyle=(0, (3, 5, 3, 5)), linewidth=1.5, label=None)\n",
    "    plt.axvline(x=dppc_x_2, color='black', linestyle=(0, (3, 5, 3, 5)), linewidth=1.5, label=None)\n",
    "\n",
    "plt.axvline(x=max_gli_x, color='black', linestyle=(0, (3, 5, 3, 5)), linewidth=1.5, label=None)\n",
    "plt.axvline(x=max_gli_x_2, color='black', linestyle=(0, (3, 5, 3, 5)), linewidth=1.5, label=None)\n",
    "plt.axvline(x=max_tail_x, color='black', linestyle=(0, (3, 5, 3, 5)), linewidth=1.5, label=None)\n",
    "plt.axvline(x=max_tail_x_2, color='black', linestyle=(0, (3, 5, 3, 5)), linewidth=1.5, label=None)\n",
    "\n",
    "\n",
    "\n",
    "# Add labels and title\n",
    "plt.xlabel('z(Å)',fontsize=28)\n",
    "plt.ylabel('Density (g/mL)',fontsize=28)\n",
    "#plt.title('Linear Density Profile ',fontsize=28)\n",
    "\n",
    "# Add legend\n",
    "plt.legend(fontsize=24)\n",
    "plt.xlim(-50, 60)\n",
    "plt.ylim(-0.05, 1.40)\n",
    "plt.tick_params(axis='both', which='major', labelsize=24)  # Increase tick label size\n",
    "plt.grid(True, which='both', linestyle=':', linewidth=0.5, color='gray', alpha=0.7)\n",
    "\n",
    "plt.text(\n",
    "    -28, 1.22,  # x, y coordinates of the text in data units\n",
    "    'I   II III    IV    III II  I',  # The text to display\n",
    "    fontsize=30,  # Font size of the text\n",
    "    bbox=dict(facecolor='white', alpha=0.0,edgecolor='white' )  # Text box style\n",
    ")\n",
    "\n",
    "# Add legend\n",
    "plt.legend(fontsize=22)\n",
    "\n",
    "# Show the plot\n",
    "plt.show()\n"
   ]
  },
  {
   "cell_type": "code",
   "execution_count": null,
   "metadata": {
    "colab": {
     "base_uri": "https://localhost:8080/",
     "height": 588
    },
    "executionInfo": {
     "elapsed": 480,
     "status": "ok",
     "timestamp": 1753382618251,
     "user": {
      "displayName": "Marcelo Puiatti",
      "userId": "03743282027942698830"
     },
     "user_tz": 180
    },
    "id": "RIjLbuJPo_6o",
    "outputId": "008227d5-377e-4797-965f-5f60845ddf27"
   },
   "outputs": [
    {
     "data": {
      "image/png": "[encoded data removed]",
      "text/plain": [
       "<Figure size 1000x600 with 1 Axes>"
      ]
     },
     "metadata": {},
     "output_type": "display_data"
    }
   ],
   "source": [
    "\n",
    "# Create the plot\n",
    "plt.figure(figsize=(10, 6))\n",
    "\n",
    "# Plot the smoothed lines with shading\n",
    "sns.lineplot(x=new_df['bin'] - Offset , y='Lipid_smooth', data=new_df, label='DPPC', color='black',  linewidth=3.0)\n",
    "sns.lineplot(x=new_df['bin'] - Offset, y='W_smooth', data=new_df, label='Water', color='lightblue', linewidth=3.0)\n",
    "#sns.lineplot(x=new_df['bin'] - Offset, y='CHOL_smooth', data=new_df, label='CHOL', color=CHOL_color, linewidth=3.0)\n",
    "#sns.lineplot(x=new_df['bin'] - Offset, y='Gli_smooth', data=new_df, label='Glicerol', color=SAPE_color, linewidth=3.0)\n",
    "#sns.lineplot(x=new_df['bin'] - Offset, y='Tail_smooth', data=new_df, label='Lipid tails', color=SAPI_color, linewidth=3.0)\n",
    "#sns.lineplot(x=new_df['bin'] - Offset, y='Fosf_smooth', data=new_df, label='Fosfates', color='black', linewidth=3.0)\n",
    "sns.lineplot(x=new_df['bin'] - Offset, y=new_df['ZNPC_smooth'] * 5, data=new_df, label='ZnPc', linewidth=3.0, color='red')\n",
    "\n",
    "# Fill the area under ZNPC_smooth curve\n",
    "plt.fill_between(new_df['bin'] - Offset, new_df['ZNPC_smooth'] * 5, color='red', alpha=0.3)\n",
    "\n",
    "\n",
    "\n",
    "# Add a dotted line at the maximum of Gli_smooth series\n",
    "max_gli_y = new_df['Gli_smooth'].max()  # Find the maximum y-value in Gli_smooth\n",
    "max_gli_x = new_df['bin'][new_df['Gli_smooth'].idxmax()] - Offset  # Corresponding x-value with Offset applied\n",
    "max_gli_x_2 = max_gli_x * (-1)\n",
    "\n",
    "max_tail_y = new_df['Tail_smooth'].max()  # Find the maximum y-value in Gli_smooth\n",
    "max_tail_x = new_df['bin'][new_df['Tail_smooth'].idxmax()] - Offset  # Corresponding x-value with Offset applied\n",
    "max_tail_x_2 = max_tail_x * (-1)\n",
    "\n",
    "\n",
    "# Set tolerance values to make np.isclose less strict\n",
    "tolerance_rtol = 1e-2  # Relative tolerance, can be adjusted as needed\n",
    "tolerance_atol = 1e-1  # Absolute tolerance, can be adjusted as needed\n",
    "\n",
    "# Find the points where W_smooth and DPPC_smooth are approximately equal\n",
    "equal_point = new_df[np.isclose(new_df['W_smooth'], new_df['Lipid_smooth'], rtol=tolerance_rtol, atol=tolerance_atol)]\n",
    "if not equal_point.empty:\n",
    "    equal_x = equal_point['bin'].iloc[0] - Offset\n",
    "    equal_x_2 = equal_x * (-1)\n",
    "    plt.axvline(x=equal_x, color='black', linestyle=(0, (3, 5, 3, 5)), linewidth=1.5, label=None)\n",
    "    plt.axvline(x=equal_x_2, color='black', linestyle=(0, (3, 5, 3, 5)), linewidth=1.5, label=None)\n",
    "\n",
    "\n",
    "# Find the point where DPPC_smooth is higher than 0.1 and plot a vertical line\n",
    "dppc_point = new_df[new_df['Lipid_smooth'] > 0.001]\n",
    "if not dppc_point.empty:\n",
    "    dppc_x = dppc_point['bin'].iloc[0] - Offset\n",
    "    dppc_x_2 = dppc_x * (-1)\n",
    "    plt.axvline(x=dppc_x, color='black', linestyle=(0, (3, 5, 3, 5)), linewidth=1.5, label=None)\n",
    "    plt.axvline(x=dppc_x_2, color='black', linestyle=(0, (3, 5, 3, 5)), linewidth=1.5, label=None)\n",
    "\n",
    "plt.axvline(x=max_gli_x, color='black', linestyle=(0, (3, 5, 3, 5)), linewidth=1.5, label=None)\n",
    "plt.axvline(x=max_gli_x_2, color='black', linestyle=(0, (3, 5, 3, 5)), linewidth=1.5, label=None)\n",
    "plt.axvline(x=max_tail_x, color='black', linestyle=(0, (3, 5, 3, 5)), linewidth=1.5, label=None)\n",
    "plt.axvline(x=max_tail_x_2, color='black', linestyle=(0, (3, 5, 3, 5)), linewidth=1.5, label=None)\n",
    "\n",
    "\n",
    "\n",
    "# Add labels and title\n",
    "plt.xlabel('z(Å)',fontsize=28)\n",
    "plt.ylabel('Density (g/mL)',fontsize=28)\n",
    "#plt.title('Linear Density Profile ',fontsize=28)\n",
    "\n",
    "# Add legend\n",
    "plt.legend(fontsize=24)\n",
    "plt.xlim(-50, 60)\n",
    "plt.ylim(-0.05, 1.30)\n",
    "plt.tick_params(axis='both', which='major', labelsize=24)  # Increase tick label size\n",
    "plt.grid(True, which='both', linestyle=':', linewidth=0.5, color='gray', alpha=0.7)\n",
    "\n",
    "\n",
    "\n",
    "# Add legend\n",
    "plt.legend(fontsize=22)\n",
    "\n",
    "# Show the plot\n",
    "plt.show()\n"
   ]
  },
  {
   "cell_type": "code",
   "execution_count": 7,
   "metadata": {
    "colab": {
     "base_uri": "https://localhost:8080/"
    },
    "executionInfo": {
     "elapsed": 31,
     "status": "ok",
     "timestamp": 1753382621573,
     "user": {
      "displayName": "Marcelo Puiatti",
      "userId": "03743282027942698830"
     },
     "user_tz": 180
    },
    "id": "9oyhFp5wo_6o",
    "outputId": "07d19510-671a-46bc-b90d-ce3bcc2d8897"
   },
   "outputs": [
    {
     "name": "stdout",
     "output_type": "stream",
     "text": [
      "29.291554715718558\n",
      "22.291554715718558\n",
      "-16.708445284281446\n",
      "8.791554715718556\n",
      "-8.791554715718556\n",
      "16.708445284281446\n",
      "-22.291554715718558\n",
      "-29.291554715718558\n"
     ]
    }
   ],
   "source": [
    "# Los valores de referencia para los limites de las Regiones son:\n",
    "print(dppc_x_2)\n",
    "print(equal_x_2)\n",
    "print(max_gli_x_2)\n",
    "print(max_tail_x_2)\n",
    "\n",
    "print(max_tail_x)\n",
    "print(max_gli_x)\n",
    "print(equal_x)\n",
    "print(dppc_x)\n"
   ]
  },
  {
   "cell_type": "code",
   "execution_count": 8,
   "metadata": {
    "colab": {
     "base_uri": "https://localhost:8080/",
     "height": 626
    },
    "executionInfo": {
     "elapsed": 910,
     "status": "ok",
     "timestamp": 1753382625320,
     "user": {
      "displayName": "Marcelo Puiatti",
      "userId": "03743282027942698830"
     },
     "user_tz": 180
    },
    "id": "6enPF6_Do_6o",
    "outputId": "03f14e12-cf0b-4e4e-d289-2626a5de3a38"
   },
   "outputs": [
    {
     "data": {
      "image/png": "[encoded data removed]",
      "text/plain": [
       "<Figure size 1000x600 with 1 Axes>"
      ]
     },
     "metadata": {},
     "output_type": "display_data"
    }
   ],
   "source": [
    "# En este grafico estan graficadas todas las densidades, es solo informativo, no es para version final:\n",
    "\n",
    "\n",
    "# Create the plot\n",
    "plt.figure(figsize=(10, 6))\n",
    "\n",
    "# Plot the smoothed lines with shading\n",
    "sns.lineplot(x=new_df['bin'] - Offset , y='Lipid_smooth', data=new_df, label='Lipid', color='black',  linewidth=3.0)\n",
    "sns.lineplot(x=new_df['bin'] - Offset , y='DPPC_smooth', data=new_df, label='DPPC', color='violet',  linewidth=3.0)\n",
    "sns.lineplot(x=new_df['bin'] - Offset, y='W_smooth', data=new_df, label='W', color='blue', linewidth=3.0)\n",
    "sns.lineplot(x=new_df['bin'] - Offset, y='CHOL_smooth', data=new_df, label='CHOL', color='gray', linewidth=3.0)\n",
    "sns.lineplot(x=new_df['bin'] - Offset, y='Gli_smooth', data=new_df, label='Glicerol', color='orange', linewidth=3.0)\n",
    "sns.lineplot(x=new_df['bin'] - Offset, y='Tail_smooth', data=new_df, label='Lipid tails', color='green', linewidth=3.0)\n",
    "sns.lineplot(x=new_df['bin'] - Offset, y='Fosf_smooth', data=new_df, label='Fosfates', color='black', linewidth=3.0)\n",
    "sns.lineplot(x=new_df['bin'] - Offset, y=new_df['ZNPC_smooth'] * 5, data=new_df, label='ZNPC', linewidth=3.0, color='red')\n",
    "\n",
    "# Add labels and title\n",
    "plt.xlabel('z(Å)',fontsize=28)\n",
    "plt.ylabel('Density (g/mL)',fontsize=28)\n",
    "plt.title('Linear Density Profile ',fontsize=28)\n",
    "\n",
    "# Add legend\n",
    "plt.legend(fontsize=24)\n",
    "plt.xlim(-50, 60)\n",
    "plt.tick_params(axis='both', which='major', labelsize=24)  # Increase tick label size\n",
    "plt.grid(True, which='both', linestyle='--', linewidth=0.7, color='gray', alpha=0.7)\n",
    "\n",
    "\n",
    "\n",
    "# Fill the area under ZNPC_smooth curve\n",
    "plt.fill_between(new_df['bin'] - Offset, new_df['ZNPC_smooth'] * 5, color='red', alpha=0.3)\n",
    "\n",
    "# Add a dotted line at the maximum of Gli_smooth series\n",
    "max_gli_y = new_df['Gli_smooth'].max()  # Find the maximum y-value in Gli_smooth\n",
    "max_gli_x = new_df['bin'][new_df['Gli_smooth'].idxmax()] - Offset  # Corresponding x-value with Offset applied\n",
    "max_gli_x_2 = max_gli_x * (-1)\n",
    "\n",
    "max_tail_y = new_df['Tail_smooth'].max()  # Find the maximum y-value in Gli_smooth\n",
    "max_tail_x = new_df['bin'][new_df['Tail_smooth'].idxmax()] - Offset  # Corresponding x-value with Offset applied\n",
    "max_tail_x_2 = max_tail_x * (-1)\n",
    "\n",
    "\n",
    "# Set tolerance values to make np.isclose less strict\n",
    "tolerance_rtol = 1e-2  # Relative tolerance, can be adjusted as needed\n",
    "tolerance_atol = 1e-1  # Absolute tolerance, can be adjusted as needed\n",
    "\n",
    "# Find the points where W_smooth and DPPC_smooth are approximately equal\n",
    "equal_point = new_df[np.isclose(new_df['W_smooth'], new_df['DPPC_smooth'], rtol=tolerance_rtol, atol=tolerance_atol)]\n",
    "if not equal_point.empty:\n",
    "    equal_x = equal_point['bin'].iloc[0] - Offset\n",
    "    equal_x_2 = equal_x * (-1)\n",
    "    plt.axvline(x=equal_x, color='black', linestyle=(0, (3, 5, 3, 5)), linewidth=2, label=None)\n",
    "    plt.axvline(x=equal_x, color='black', linestyle=(0, (3, 5, 3, 5)), linewidth=2, label=None)\n",
    "\n",
    "\n",
    "# Find the point where DPPC_smooth is higher than 0.1 and plot a vertical line\n",
    "dppc_point = new_df[new_df['DPPC_smooth'] > 0.001]\n",
    "if not dppc_point.empty:\n",
    "    dppc_x = dppc_point['bin'].iloc[0] - Offset\n",
    "    plt.axvline(x=dppc_x, color='black', linestyle=(0, (3, 5, 3, 5)), linewidth=2)\n",
    "\n",
    "plt.axvline(x=max_gli_x, color='black', linestyle=(0, (3, 5, 3, 5)), linewidth=2)\n",
    "plt.axvline(x=max_gli_x_2, color='black', linestyle=(0, (3, 5, 3, 5)), linewidth=2)\n",
    "plt.axvline(x=max_tail_x, color='black', linestyle=(0, (3, 5, 3, 5)), linewidth=2, label=None)\n",
    "plt.axvline(x=max_tail_x_2, color='black', linestyle=(0, (3, 5, 3, 5)), linewidth=2, label=None)\n",
    "\n",
    "\n",
    "# Add legend\n",
    "plt.legend(fontsize=20)\n",
    "\n",
    "# Show the plot\n",
    "plt.show()\n"
   ]
  },
  {
   "cell_type": "code",
   "execution_count": null,
   "metadata": {
    "id": "UYOBgYono_6p"
   },
   "outputs": [],
   "source": [
    "# Define the file path\n",
    "#file_path = r'linear_density-OK.csv'\n",
    "\n",
    "# Get the directory path and ensure it exists\n",
    "#directory_path = os.path.abspath(os.path.dirname(file_path))\n",
    "#os.makedirs(directory_path, exist_ok=True)\n",
    "\n",
    "# Save the DataFrame to the CSV file\n",
    "#new_df.to_csv(file_path, index=False)  # Set index=False to exclude the index column in the CSV file\n"
   ]
  },
  {
   "cell_type": "code",
   "execution_count": null,
   "metadata": {
    "id": "5CYXoZ9lo_6p"
   },
   "outputs": [],
   "source": []
  }
 ],
 "metadata": {
  "colab": {
   "provenance": []
  },
  "kernelspec": {
   "display_name": "Python 3",
   "language": "python",
   "name": "python3"
  },
  "language_info": {
   "codemirror_mode": {
    "name": "ipython",
    "version": 3
   },
   "file_extension": ".py",
   "mimetype": "text/x-python",
   "name": "python",
   "nbconvert_exporter": "python",
   "pygments_lexer": "ipython3",
   "version": "3.12.1"
  },
  "widgets": {
   "application/vnd.jupyter.widget-state+json": {
    "05068b59430244ff9c800a163e08db44": {
     "model_module": "@jupyter-widgets/controls",
     "model_module_version": "1.5.0",
     "model_name": "DescriptionStyleModel",
     "state": {
      "_model_module": "@jupyter-widgets/controls",
      "_model_module_version": "1.5.0",
      "_model_name": "DescriptionStyleModel",
      "_view_count": null,
      "_view_module": "@jupyter-widgets/base",
      "_view_module_version": "1.2.0",
      "_view_name": "StyleView",
      "description_width": ""
     }
    },
    "0c4d5a544b4d4daabdec985ca05b3fd4": {
     "model_module": "@jupyter-widgets/base",
     "model_module_version": "1.2.0",
     "model_name": "LayoutModel",
     "state": {
      "_model_module": "@jupyter-widgets/base",
      "_model_module_version": "1.2.0",
      "_model_name": "LayoutModel",
      "_view_count": null,
      "_view_module": "@jupyter-widgets/base",
      "_view_module_version": "1.2.0",
      "_view_name": "LayoutView",
      "align_content": null,
      "align_items": null,
      "align_self": null,
      "border": null,
      "bottom": null,
      "display": null,
      "flex": null,
      "flex_flow": null,
      "grid_area": null,
      "grid_auto_columns": null,
      "grid_auto_flow": null,
      "grid_auto_rows": null,
      "grid_column": null,
      "grid_gap": null,
      "grid_row": null,
      "grid_template_areas": null,
      "grid_template_columns": null,
      "grid_template_rows": null,
      "height": null,
      "justify_content": null,
      "justify_items": null,
      "left": null,
      "margin": null,
      "max_height": null,
      "max_width": null,
      "min_height": null,
      "min_width": null,
      "object_fit": null,
      "object_position": null,
      "order": null,
      "overflow": null,
      "overflow_x": null,
      "overflow_y": null,
      "padding": null,
      "right": null,
      "top": null,
      "visibility": null,
      "width": null
     }
    },
    "0c790b6202fc45efbf09d8b842a44b66": {
     "model_module": "@jupyter-widgets/base",
     "model_module_version": "1.2.0",
     "model_name": "LayoutModel",
     "state": {
      "_model_module": "@jupyter-widgets/base",
      "_model_module_version": "1.2.0",
      "_model_name": "LayoutModel",
      "_view_count": null,
      "_view_module": "@jupyter-widgets/base",
      "_view_module_version": "1.2.0",
      "_view_name": "LayoutView",
      "align_content": null,
      "align_items": null,
      "align_self": null,
      "border": null,
      "bottom": null,
      "display": null,
      "flex": null,
      "flex_flow": null,
      "grid_area": null,
      "grid_auto_columns": null,
      "grid_auto_flow": null,
      "grid_auto_rows": null,
      "grid_column": null,
      "grid_gap": null,
      "grid_row": null,
      "grid_template_areas": null,
      "grid_template_columns": null,
      "grid_template_rows": null,
      "height": null,
      "justify_content": null,
      "justify_items": null,
      "left": null,
      "margin": null,
      "max_height": null,
      "max_width": null,
      "min_height": null,
      "min_width": null,
      "object_fit": null,
      "object_position": null,
      "order": null,
      "overflow": null,
      "overflow_x": null,
      "overflow_y": null,
      "padding": null,
      "right": null,
      "top": null,
      "visibility": null,
      "width": null
     }
    },
    "0ec61d1931934d94a1414768fd752d31": {
     "model_module": "@jupyter-widgets/controls",
     "model_module_version": "1.5.0",
     "model_name": "HBoxModel",
     "state": {
      "_dom_classes": [],
      "_model_module": "@jupyter-widgets/controls",
      "_model_module_version": "1.5.0",
      "_model_name": "HBoxModel",
      "_view_count": null,
      "_view_module": "@jupyter-widgets/controls",
      "_view_module_version": "1.5.0",
      "_view_name": "HBoxView",
      "box_style": "",
      "children": [
       "IPY_MODEL_13095322c8504fbdbcd2460f2264e636",
       "IPY_MODEL_4190b09ff1bf4b9ba95f5e2ada0405e0",
       "IPY_MODEL_3425a43e14b245e78bdd771e0ef45b5d"
      ],
      "layout": "IPY_MODEL_ef69ea68f5264236a8b116bb989e6ad5"
     }
    },
    "11a094bc1582438aa379c33aa804b8dc": {
     "model_module": "@jupyter-widgets/controls",
     "model_module_version": "1.5.0",
     "model_name": "FloatProgressModel",
     "state": {
      "_dom_classes": [],
      "_model_module": "@jupyter-widgets/controls",
      "_model_module_version": "1.5.0",
      "_model_name": "FloatProgressModel",
      "_view_count": null,
      "_view_module": "@jupyter-widgets/controls",
      "_view_module_version": "1.5.0",
      "_view_name": "ProgressView",
      "bar_style": "success",
      "description": "",
      "description_tooltip": null,
      "layout": "IPY_MODEL_d2eab5f7d8fb41628da6bd7d8ccd5ce0",
      "max": 2000,
      "min": 0,
      "orientation": "horizontal",
      "style": "IPY_MODEL_fca0674ea0fb4cc5882fbcea1f69ff36",
      "value": 2000
     }
    },
    "12c755c6024f4495aa34ec8300e639d7": {
     "model_module": "@jupyter-widgets/controls",
     "model_module_version": "1.5.0",
     "model_name": "DescriptionStyleModel",
     "state": {
      "_model_module": "@jupyter-widgets/controls",
      "_model_module_version": "1.5.0",
      "_model_name": "DescriptionStyleModel",
      "_view_count": null,
      "_view_module": "@jupyter-widgets/base",
      "_view_module_version": "1.2.0",
      "_view_name": "StyleView",
      "description_width": ""
     }
    },
    "13095322c8504fbdbcd2460f2264e636": {
     "model_module": "@jupyter-widgets/controls",
     "model_module_version": "1.5.0",
     "model_name": "HTMLModel",
     "state": {
      "_dom_classes": [],
      "_model_module": "@jupyter-widgets/controls",
      "_model_module_version": "1.5.0",
      "_model_name": "HTMLModel",
      "_view_count": null,
      "_view_module": "@jupyter-widgets/controls",
      "_view_module_version": "1.5.0",
      "_view_name": "HTMLView",
      "description": "",
      "description_tooltip": null,
      "layout": "IPY_MODEL_e506cd938284411181d28d0c76042a4a",
      "placeholder": "​",
      "style": "IPY_MODEL_ff47052f31a3456ebb9e818957f38a8d",
      "value": "100%"
     }
    },
    "14b3143218c449fa8dcf4e45fe593219": {
     "model_module": "@jupyter-widgets/controls",
     "model_module_version": "1.5.0",
     "model_name": "DescriptionStyleModel",
     "state": {
      "_model_module": "@jupyter-widgets/controls",
      "_model_module_version": "1.5.0",
      "_model_name": "DescriptionStyleModel",
      "_view_count": null,
      "_view_module": "@jupyter-widgets/base",
      "_view_module_version": "1.2.0",
      "_view_name": "StyleView",
      "description_width": ""
     }
    },
    "1842fe86308d4271a236e008f669817d": {
     "model_module": "@jupyter-widgets/controls",
     "model_module_version": "1.5.0",
     "model_name": "HBoxModel",
     "state": {
      "_dom_classes": [],
      "_model_module": "@jupyter-widgets/controls",
      "_model_module_version": "1.5.0",
      "_model_name": "HBoxModel",
      "_view_count": null,
      "_view_module": "@jupyter-widgets/controls",
      "_view_module_version": "1.5.0",
      "_view_name": "HBoxView",
      "box_style": "",
      "children": [
       "IPY_MODEL_c1bf2929ff5b4bfeae8f56c828ad4793",
       "IPY_MODEL_33e30d6b69ff402b9314b3b7992e843f",
       "IPY_MODEL_c3b96977a92849ea8f625f0a9d7e493e"
      ],
      "layout": "IPY_MODEL_72fbd35cc1364576b180b04f4d063e9c"
     }
    },
    "1944aeb101c544e1800487549192ff36": {
     "model_module": "@jupyter-widgets/controls",
     "model_module_version": "1.5.0",
     "model_name": "DescriptionStyleModel",
     "state": {
      "_model_module": "@jupyter-widgets/controls",
      "_model_module_version": "1.5.0",
      "_model_name": "DescriptionStyleModel",
      "_view_count": null,
      "_view_module": "@jupyter-widgets/base",
      "_view_module_version": "1.2.0",
      "_view_name": "StyleView",
      "description_width": ""
     }
    },
    "1f356d81d66144a49e12207faa54ac92": {
     "model_module": "@jupyter-widgets/controls",
     "model_module_version": "1.5.0",
     "model_name": "FloatProgressModel",
     "state": {
      "_dom_classes": [],
      "_model_module": "@jupyter-widgets/controls",
      "_model_module_version": "1.5.0",
      "_model_name": "FloatProgressModel",
      "_view_count": null,
      "_view_module": "@jupyter-widgets/controls",
      "_view_module_version": "1.5.0",
      "_view_name": "ProgressView",
      "bar_style": "success",
      "description": "",
      "description_tooltip": null,
      "layout": "IPY_MODEL_9696666b16a24eb0883eed8066a9cff5",
      "max": 1200,
      "min": 0,
      "orientation": "horizontal",
      "style": "IPY_MODEL_989398addeae49dfb00e69507c8cb3fc",
      "value": 1200
     }
    },
    "1fce27a3bf5f4b0da50d96f8037a9371": {
     "model_module": "@jupyter-widgets/controls",
     "model_module_version": "1.5.0",
     "model_name": "HBoxModel",
     "state": {
      "_dom_classes": [],
      "_model_module": "@jupyter-widgets/controls",
      "_model_module_version": "1.5.0",
      "_model_name": "HBoxModel",
      "_view_count": null,
      "_view_module": "@jupyter-widgets/controls",
      "_view_module_version": "1.5.0",
      "_view_name": "HBoxView",
      "box_style": "",
      "children": [
       "IPY_MODEL_ee017c33344d41d9833c10355d0d2a9e",
       "IPY_MODEL_54ea09c9367949c08042db96af338243",
       "IPY_MODEL_a2b54d52f37a452e93b9da0dc580d1ab"
      ],
      "layout": "IPY_MODEL_8190f76b57364cd0b82f6164ee3f8a71"
     }
    },
    "1fde9791dc2e4f68bfe334275ef138ba": {
     "model_module": "@jupyter-widgets/controls",
     "model_module_version": "1.5.0",
     "model_name": "DescriptionStyleModel",
     "state": {
      "_model_module": "@jupyter-widgets/controls",
      "_model_module_version": "1.5.0",
      "_model_name": "DescriptionStyleModel",
      "_view_count": null,
      "_view_module": "@jupyter-widgets/base",
      "_view_module_version": "1.2.0",
      "_view_name": "StyleView",
      "description_width": ""
     }
    },
    "1fe2e2127bad4055945769c07f173a99": {
     "model_module": "@jupyter-widgets/base",
     "model_module_version": "1.2.0",
     "model_name": "LayoutModel",
     "state": {
      "_model_module": "@jupyter-widgets/base",
      "_model_module_version": "1.2.0",
      "_model_name": "LayoutModel",
      "_view_count": null,
      "_view_module": "@jupyter-widgets/base",
      "_view_module_version": "1.2.0",
      "_view_name": "LayoutView",
      "align_content": null,
      "align_items": null,
      "align_self": null,
      "border": null,
      "bottom": null,
      "display": null,
      "flex": null,
      "flex_flow": null,
      "grid_area": null,
      "grid_auto_columns": null,
      "grid_auto_flow": null,
      "grid_auto_rows": null,
      "grid_column": null,
      "grid_gap": null,
      "grid_row": null,
      "grid_template_areas": null,
      "grid_template_columns": null,
      "grid_template_rows": null,
      "height": null,
      "justify_content": null,
      "justify_items": null,
      "left": null,
      "margin": null,
      "max_height": null,
      "max_width": null,
      "min_height": null,
      "min_width": null,
      "object_fit": null,
      "object_position": null,
      "order": null,
      "overflow": null,
      "overflow_x": null,
      "overflow_y": null,
      "padding": null,
      "right": null,
      "top": null,
      "visibility": null,
      "width": null
     }
    },
    "265577a057df4c529142219377666c71": {
     "model_module": "@jupyter-widgets/controls",
     "model_module_version": "1.5.0",
     "model_name": "ProgressStyleModel",
     "state": {
      "_model_module": "@jupyter-widgets/controls",
      "_model_module_version": "1.5.0",
      "_model_name": "ProgressStyleModel",
      "_view_count": null,
      "_view_module": "@jupyter-widgets/base",
      "_view_module_version": "1.2.0",
      "_view_name": "StyleView",
      "bar_color": null,
      "description_width": ""
     }
    },
    "28b32cb3b2584bf4bc2b764c94bb15e9": {
     "model_module": "@jupyter-widgets/controls",
     "model_module_version": "1.5.0",
     "model_name": "DescriptionStyleModel",
     "state": {
      "_model_module": "@jupyter-widgets/controls",
      "_model_module_version": "1.5.0",
      "_model_name": "DescriptionStyleModel",
      "_view_count": null,
      "_view_module": "@jupyter-widgets/base",
      "_view_module_version": "1.2.0",
      "_view_name": "StyleView",
      "description_width": ""
     }
    },
    "2a95918a403e4ab5aab35a201bbbedd1": {
     "model_module": "@jupyter-widgets/controls",
     "model_module_version": "1.5.0",
     "model_name": "ProgressStyleModel",
     "state": {
      "_model_module": "@jupyter-widgets/controls",
      "_model_module_version": "1.5.0",
      "_model_name": "ProgressStyleModel",
      "_view_count": null,
      "_view_module": "@jupyter-widgets/base",
      "_view_module_version": "1.2.0",
      "_view_name": "StyleView",
      "bar_color": null,
      "description_width": ""
     }
    },
    "309c908c902f464ba76c330af4e66ab2": {
     "model_module": "@jupyter-widgets/controls",
     "model_module_version": "1.5.0",
     "model_name": "HTMLModel",
     "state": {
      "_dom_classes": [],
      "_model_module": "@jupyter-widgets/controls",
      "_model_module_version": "1.5.0",
      "_model_name": "HTMLModel",
      "_view_count": null,
      "_view_module": "@jupyter-widgets/controls",
      "_view_module_version": "1.5.0",
      "_view_name": "HTMLView",
      "description": "",
      "description_tooltip": null,
      "layout": "IPY_MODEL_ae1c2615a39349f2a431233866c8341d",
      "placeholder": "​",
      "style": "IPY_MODEL_dce3b8dabf6847bea93c4551e61443ec",
      "value": "100%"
     }
    },
    "33e30d6b69ff402b9314b3b7992e843f": {
     "model_module": "@jupyter-widgets/controls",
     "model_module_version": "1.5.0",
     "model_name": "FloatProgressModel",
     "state": {
      "_dom_classes": [],
      "_model_module": "@jupyter-widgets/controls",
      "_model_module_version": "1.5.0",
      "_model_name": "FloatProgressModel",
      "_view_count": null,
      "_view_module": "@jupyter-widgets/controls",
      "_view_module_version": "1.5.0",
      "_view_name": "ProgressView",
      "bar_style": "success",
      "description": "",
      "description_tooltip": null,
      "layout": "IPY_MODEL_0c790b6202fc45efbf09d8b842a44b66",
      "max": 2000,
      "min": 0,
      "orientation": "horizontal",
      "style": "IPY_MODEL_265577a057df4c529142219377666c71",
      "value": 2000
     }
    },
    "3425a43e14b245e78bdd771e0ef45b5d": {
     "model_module": "@jupyter-widgets/controls",
     "model_module_version": "1.5.0",
     "model_name": "HTMLModel",
     "state": {
      "_dom_classes": [],
      "_model_module": "@jupyter-widgets/controls",
      "_model_module_version": "1.5.0",
      "_model_name": "HTMLModel",
      "_view_count": null,
      "_view_module": "@jupyter-widgets/controls",
      "_view_module_version": "1.5.0",
      "_view_name": "HTMLView",
      "description": "",
      "description_tooltip": null,
      "layout": "IPY_MODEL_fc7964a5b2a0459380a8ad7fe508874d",
      "placeholder": "​",
      "style": "IPY_MODEL_28b32cb3b2584bf4bc2b764c94bb15e9",
      "value": " 2000/2000 [00:26&lt;00:00, 78.37it/s]"
     }
    },
    "40ce87ec9d55486ea13b9299b87892b0": {
     "model_module": "@jupyter-widgets/controls",
     "model_module_version": "1.5.0",
     "model_name": "DescriptionStyleModel",
     "state": {
      "_model_module": "@jupyter-widgets/controls",
      "_model_module_version": "1.5.0",
      "_model_name": "DescriptionStyleModel",
      "_view_count": null,
      "_view_module": "@jupyter-widgets/base",
      "_view_module_version": "1.2.0",
      "_view_name": "StyleView",
      "description_width": ""
     }
    },
    "4190b09ff1bf4b9ba95f5e2ada0405e0": {
     "model_module": "@jupyter-widgets/controls",
     "model_module_version": "1.5.0",
     "model_name": "FloatProgressModel",
     "state": {
      "_dom_classes": [],
      "_model_module": "@jupyter-widgets/controls",
      "_model_module_version": "1.5.0",
      "_model_name": "FloatProgressModel",
      "_view_count": null,
      "_view_module": "@jupyter-widgets/controls",
      "_view_module_version": "1.5.0",
      "_view_name": "ProgressView",
      "bar_style": "success",
      "description": "",
      "description_tooltip": null,
      "layout": "IPY_MODEL_b784ae9bc55b4717af7bb67b442dc326",
      "max": 2000,
      "min": 0,
      "orientation": "horizontal",
      "style": "IPY_MODEL_4b69c4e50ecc42d4bd3fca38aa9b79a8",
      "value": 2000
     }
    },
    "4b69c4e50ecc42d4bd3fca38aa9b79a8": {
     "model_module": "@jupyter-widgets/controls",
     "model_module_version": "1.5.0",
     "model_name": "ProgressStyleModel",
     "state": {
      "_model_module": "@jupyter-widgets/controls",
      "_model_module_version": "1.5.0",
      "_model_name": "ProgressStyleModel",
      "_view_count": null,
      "_view_module": "@jupyter-widgets/base",
      "_view_module_version": "1.2.0",
      "_view_name": "StyleView",
      "bar_color": null,
      "description_width": ""
     }
    },
    "4cd3769c582b495bb4a9499a4c964b15": {
     "model_module": "@jupyter-widgets/controls",
     "model_module_version": "1.5.0",
     "model_name": "HTMLModel",
     "state": {
      "_dom_classes": [],
      "_model_module": "@jupyter-widgets/controls",
      "_model_module_version": "1.5.0",
      "_model_name": "HTMLModel",
      "_view_count": null,
      "_view_module": "@jupyter-widgets/controls",
      "_view_module_version": "1.5.0",
      "_view_name": "HTMLView",
      "description": "",
      "description_tooltip": null,
      "layout": "IPY_MODEL_4e9c17c3442147c2ba25b19de5545eb1",
      "placeholder": "​",
      "style": "IPY_MODEL_05068b59430244ff9c800a163e08db44",
      "value": " 2000/2000 [00:18&lt;00:00, 126.18it/s]"
     }
    },
    "4e3e693ac16247e390d6382ffb82bb2c": {
     "model_module": "@jupyter-widgets/base",
     "model_module_version": "1.2.0",
     "model_name": "LayoutModel",
     "state": {
      "_model_module": "@jupyter-widgets/base",
      "_model_module_version": "1.2.0",
      "_model_name": "LayoutModel",
      "_view_count": null,
      "_view_module": "@jupyter-widgets/base",
      "_view_module_version": "1.2.0",
      "_view_name": "LayoutView",
      "align_content": null,
      "align_items": null,
      "align_self": null,
      "border": null,
      "bottom": null,
      "display": null,
      "flex": null,
      "flex_flow": null,
      "grid_area": null,
      "grid_auto_columns": null,
      "grid_auto_flow": null,
      "grid_auto_rows": null,
      "grid_column": null,
      "grid_gap": null,
      "grid_row": null,
      "grid_template_areas": null,
      "grid_template_columns": null,
      "grid_template_rows": null,
      "height": null,
      "justify_content": null,
      "justify_items": null,
      "left": null,
      "margin": null,
      "max_height": null,
      "max_width": null,
      "min_height": null,
      "min_width": null,
      "object_fit": null,
      "object_position": null,
      "order": null,
      "overflow": null,
      "overflow_x": null,
      "overflow_y": null,
      "padding": null,
      "right": null,
      "top": null,
      "visibility": null,
      "width": null
     }
    },
    "4e9c17c3442147c2ba25b19de5545eb1": {
     "model_module": "@jupyter-widgets/base",
     "model_module_version": "1.2.0",
     "model_name": "LayoutModel",
     "state": {
      "_model_module": "@jupyter-widgets/base",
      "_model_module_version": "1.2.0",
      "_model_name": "LayoutModel",
      "_view_count": null,
      "_view_module": "@jupyter-widgets/base",
      "_view_module_version": "1.2.0",
      "_view_name": "LayoutView",
      "align_content": null,
      "align_items": null,
      "align_self": null,
      "border": null,
      "bottom": null,
      "display": null,
      "flex": null,
      "flex_flow": null,
      "grid_area": null,
      "grid_auto_columns": null,
      "grid_auto_flow": null,
      "grid_auto_rows": null,
      "grid_column": null,
      "grid_gap": null,
      "grid_row": null,
      "grid_template_areas": null,
      "grid_template_columns": null,
      "grid_template_rows": null,
      "height": null,
      "justify_content": null,
      "justify_items": null,
      "left": null,
      "margin": null,
      "max_height": null,
      "max_width": null,
      "min_height": null,
      "min_width": null,
      "object_fit": null,
      "object_position": null,
      "order": null,
      "overflow": null,
      "overflow_x": null,
      "overflow_y": null,
      "padding": null,
      "right": null,
      "top": null,
      "visibility": null,
      "width": null
     }
    },
    "4f8df32697a14180a4cca08783f77483": {
     "model_module": "@jupyter-widgets/controls",
     "model_module_version": "1.5.0",
     "model_name": "DescriptionStyleModel",
     "state": {
      "_model_module": "@jupyter-widgets/controls",
      "_model_module_version": "1.5.0",
      "_model_name": "DescriptionStyleModel",
      "_view_count": null,
      "_view_module": "@jupyter-widgets/base",
      "_view_module_version": "1.2.0",
      "_view_name": "StyleView",
      "description_width": ""
     }
    },
    "51dd8ae3e7b24818950e5631cf96fb6a": {
     "model_module": "@jupyter-widgets/base",
     "model_module_version": "1.2.0",
     "model_name": "LayoutModel",
     "state": {
      "_model_module": "@jupyter-widgets/base",
      "_model_module_version": "1.2.0",
      "_model_name": "LayoutModel",
      "_view_count": null,
      "_view_module": "@jupyter-widgets/base",
      "_view_module_version": "1.2.0",
      "_view_name": "LayoutView",
      "align_content": null,
      "align_items": null,
      "align_self": null,
      "border": null,
      "bottom": null,
      "display": null,
      "flex": null,
      "flex_flow": null,
      "grid_area": null,
      "grid_auto_columns": null,
      "grid_auto_flow": null,
      "grid_auto_rows": null,
      "grid_column": null,
      "grid_gap": null,
      "grid_row": null,
      "grid_template_areas": null,
      "grid_template_columns": null,
      "grid_template_rows": null,
      "height": null,
      "justify_content": null,
      "justify_items": null,
      "left": null,
      "margin": null,
      "max_height": null,
      "max_width": null,
      "min_height": null,
      "min_width": null,
      "object_fit": null,
      "object_position": null,
      "order": null,
      "overflow": null,
      "overflow_x": null,
      "overflow_y": null,
      "padding": null,
      "right": null,
      "top": null,
      "visibility": null,
      "width": null
     }
    },
    "54ea09c9367949c08042db96af338243": {
     "model_module": "@jupyter-widgets/controls",
     "model_module_version": "1.5.0",
     "model_name": "FloatProgressModel",
     "state": {
      "_dom_classes": [],
      "_model_module": "@jupyter-widgets/controls",
      "_model_module_version": "1.5.0",
      "_model_name": "FloatProgressModel",
      "_view_count": null,
      "_view_module": "@jupyter-widgets/controls",
      "_view_module_version": "1.5.0",
      "_view_name": "ProgressView",
      "bar_style": "success",
      "description": "",
      "description_tooltip": null,
      "layout": "IPY_MODEL_56d633d4aa824e828f2bc3397ddc65f1",
      "max": 2000,
      "min": 0,
      "orientation": "horizontal",
      "style": "IPY_MODEL_f235c04f702547a39acf55b57f21f733",
      "value": 2000
     }
    },
    "55300fff969f4fcd9f04b10a051fe5e6": {
     "model_module": "@jupyter-widgets/controls",
     "model_module_version": "1.5.0",
     "model_name": "DescriptionStyleModel",
     "state": {
      "_model_module": "@jupyter-widgets/controls",
      "_model_module_version": "1.5.0",
      "_model_name": "DescriptionStyleModel",
      "_view_count": null,
      "_view_module": "@jupyter-widgets/base",
      "_view_module_version": "1.2.0",
      "_view_name": "StyleView",
      "description_width": ""
     }
    },
    "56d633d4aa824e828f2bc3397ddc65f1": {
     "model_module": "@jupyter-widgets/base",
     "model_module_version": "1.2.0",
     "model_name": "LayoutModel",
     "state": {
      "_model_module": "@jupyter-widgets/base",
      "_model_module_version": "1.2.0",
      "_model_name": "LayoutModel",
      "_view_count": null,
      "_view_module": "@jupyter-widgets/base",
      "_view_module_version": "1.2.0",
      "_view_name": "LayoutView",
      "align_content": null,
      "align_items": null,
      "align_self": null,
      "border": null,
      "bottom": null,
      "display": null,
      "flex": null,
      "flex_flow": null,
      "grid_area": null,
      "grid_auto_columns": null,
      "grid_auto_flow": null,
      "grid_auto_rows": null,
      "grid_column": null,
      "grid_gap": null,
      "grid_row": null,
      "grid_template_areas": null,
      "grid_template_columns": null,
      "grid_template_rows": null,
      "height": null,
      "justify_content": null,
      "justify_items": null,
      "left": null,
      "margin": null,
      "max_height": null,
      "max_width": null,
      "min_height": null,
      "min_width": null,
      "object_fit": null,
      "object_position": null,
      "order": null,
      "overflow": null,
      "overflow_x": null,
      "overflow_y": null,
      "padding": null,
      "right": null,
      "top": null,
      "visibility": null,
      "width": null
     }
    },
    "5e89f171ee28491eac459edbe88cad09": {
     "model_module": "@jupyter-widgets/base",
     "model_module_version": "1.2.0",
     "model_name": "LayoutModel",
     "state": {
      "_model_module": "@jupyter-widgets/base",
      "_model_module_version": "1.2.0",
      "_model_name": "LayoutModel",
      "_view_count": null,
      "_view_module": "@jupyter-widgets/base",
      "_view_module_version": "1.2.0",
      "_view_name": "LayoutView",
      "align_content": null,
      "align_items": null,
      "align_self": null,
      "border": null,
      "bottom": null,
      "display": null,
      "flex": null,
      "flex_flow": null,
      "grid_area": null,
      "grid_auto_columns": null,
      "grid_auto_flow": null,
      "grid_auto_rows": null,
      "grid_column": null,
      "grid_gap": null,
      "grid_row": null,
      "grid_template_areas": null,
      "grid_template_columns": null,
      "grid_template_rows": null,
      "height": null,
      "justify_content": null,
      "justify_items": null,
      "left": null,
      "margin": null,
      "max_height": null,
      "max_width": null,
      "min_height": null,
      "min_width": null,
      "object_fit": null,
      "object_position": null,
      "order": null,
      "overflow": null,
      "overflow_x": null,
      "overflow_y": null,
      "padding": null,
      "right": null,
      "top": null,
      "visibility": null,
      "width": null
     }
    },
    "63231b0ede4a447daa9367e81c7eed32": {
     "model_module": "@jupyter-widgets/controls",
     "model_module_version": "1.5.0",
     "model_name": "HBoxModel",
     "state": {
      "_dom_classes": [],
      "_model_module": "@jupyter-widgets/controls",
      "_model_module_version": "1.5.0",
      "_model_name": "HBoxModel",
      "_view_count": null,
      "_view_module": "@jupyter-widgets/controls",
      "_view_module_version": "1.5.0",
      "_view_name": "HBoxView",
      "box_style": "",
      "children": [
       "IPY_MODEL_ca32863785014b3c877ac7ddf0d5f0f3",
       "IPY_MODEL_691c851a6387432abbe72ad47989258d",
       "IPY_MODEL_db7fad4294144b37964340cb8e6ada84"
      ],
      "layout": "IPY_MODEL_e27a5dab06754c2fbee7b1686f0d1e35"
     }
    },
    "687fc79795aa49489ccb11a7e6adbdfb": {
     "model_module": "@jupyter-widgets/base",
     "model_module_version": "1.2.0",
     "model_name": "LayoutModel",
     "state": {
      "_model_module": "@jupyter-widgets/base",
      "_model_module_version": "1.2.0",
      "_model_name": "LayoutModel",
      "_view_count": null,
      "_view_module": "@jupyter-widgets/base",
      "_view_module_version": "1.2.0",
      "_view_name": "LayoutView",
      "align_content": null,
      "align_items": null,
      "align_self": null,
      "border": null,
      "bottom": null,
      "display": null,
      "flex": null,
      "flex_flow": null,
      "grid_area": null,
      "grid_auto_columns": null,
      "grid_auto_flow": null,
      "grid_auto_rows": null,
      "grid_column": null,
      "grid_gap": null,
      "grid_row": null,
      "grid_template_areas": null,
      "grid_template_columns": null,
      "grid_template_rows": null,
      "height": null,
      "justify_content": null,
      "justify_items": null,
      "left": null,
      "margin": null,
      "max_height": null,
      "max_width": null,
      "min_height": null,
      "min_width": null,
      "object_fit": null,
      "object_position": null,
      "order": null,
      "overflow": null,
      "overflow_x": null,
      "overflow_y": null,
      "padding": null,
      "right": null,
      "top": null,
      "visibility": null,
      "width": null
     }
    },
    "691c851a6387432abbe72ad47989258d": {
     "model_module": "@jupyter-widgets/controls",
     "model_module_version": "1.5.0",
     "model_name": "FloatProgressModel",
     "state": {
      "_dom_classes": [],
      "_model_module": "@jupyter-widgets/controls",
      "_model_module_version": "1.5.0",
      "_model_name": "FloatProgressModel",
      "_view_count": null,
      "_view_module": "@jupyter-widgets/controls",
      "_view_module_version": "1.5.0",
      "_view_name": "ProgressView",
      "bar_style": "success",
      "description": "",
      "description_tooltip": null,
      "layout": "IPY_MODEL_1fe2e2127bad4055945769c07f173a99",
      "max": 2000,
      "min": 0,
      "orientation": "horizontal",
      "style": "IPY_MODEL_a1919e85ed0842b78b0e56dd78af4e37",
      "value": 2000
     }
    },
    "6a6f27b7c6374f9ba778e893d2683171": {
     "model_module": "@jupyter-widgets/controls",
     "model_module_version": "1.5.0",
     "model_name": "DescriptionStyleModel",
     "state": {
      "_model_module": "@jupyter-widgets/controls",
      "_model_module_version": "1.5.0",
      "_model_name": "DescriptionStyleModel",
      "_view_count": null,
      "_view_module": "@jupyter-widgets/base",
      "_view_module_version": "1.2.0",
      "_view_name": "StyleView",
      "description_width": ""
     }
    },
    "6afdb032cebe4a6087008c44655738ef": {
     "model_module": "@jupyter-widgets/base",
     "model_module_version": "1.2.0",
     "model_name": "LayoutModel",
     "state": {
      "_model_module": "@jupyter-widgets/base",
      "_model_module_version": "1.2.0",
      "_model_name": "LayoutModel",
      "_view_count": null,
      "_view_module": "@jupyter-widgets/base",
      "_view_module_version": "1.2.0",
      "_view_name": "LayoutView",
      "align_content": null,
      "align_items": null,
      "align_self": null,
      "border": null,
      "bottom": null,
      "display": null,
      "flex": null,
      "flex_flow": null,
      "grid_area": null,
      "grid_auto_columns": null,
      "grid_auto_flow": null,
      "grid_auto_rows": null,
      "grid_column": null,
      "grid_gap": null,
      "grid_row": null,
      "grid_template_areas": null,
      "grid_template_columns": null,
      "grid_template_rows": null,
      "height": null,
      "justify_content": null,
      "justify_items": null,
      "left": null,
      "margin": null,
      "max_height": null,
      "max_width": null,
      "min_height": null,
      "min_width": null,
      "object_fit": null,
      "object_position": null,
      "order": null,
      "overflow": null,
      "overflow_x": null,
      "overflow_y": null,
      "padding": null,
      "right": null,
      "top": null,
      "visibility": null,
      "width": null
     }
    },
    "72fbd35cc1364576b180b04f4d063e9c": {
     "model_module": "@jupyter-widgets/base",
     "model_module_version": "1.2.0",
     "model_name": "LayoutModel",
     "state": {
      "_model_module": "@jupyter-widgets/base",
      "_model_module_version": "1.2.0",
      "_model_name": "LayoutModel",
      "_view_count": null,
      "_view_module": "@jupyter-widgets/base",
      "_view_module_version": "1.2.0",
      "_view_name": "LayoutView",
      "align_content": null,
      "align_items": null,
      "align_self": null,
      "border": null,
      "bottom": null,
      "display": null,
      "flex": null,
      "flex_flow": null,
      "grid_area": null,
      "grid_auto_columns": null,
      "grid_auto_flow": null,
      "grid_auto_rows": null,
      "grid_column": null,
      "grid_gap": null,
      "grid_row": null,
      "grid_template_areas": null,
      "grid_template_columns": null,
      "grid_template_rows": null,
      "height": null,
      "justify_content": null,
      "justify_items": null,
      "left": null,
      "margin": null,
      "max_height": null,
      "max_width": null,
      "min_height": null,
      "min_width": null,
      "object_fit": null,
      "object_position": null,
      "order": null,
      "overflow": null,
      "overflow_x": null,
      "overflow_y": null,
      "padding": null,
      "right": null,
      "top": null,
      "visibility": null,
      "width": null
     }
    },
    "7c31361edcff41e28e97e8c0f7a1bb3f": {
     "model_module": "@jupyter-widgets/base",
     "model_module_version": "1.2.0",
     "model_name": "LayoutModel",
     "state": {
      "_model_module": "@jupyter-widgets/base",
      "_model_module_version": "1.2.0",
      "_model_name": "LayoutModel",
      "_view_count": null,
      "_view_module": "@jupyter-widgets/base",
      "_view_module_version": "1.2.0",
      "_view_name": "LayoutView",
      "align_content": null,
      "align_items": null,
      "align_self": null,
      "border": null,
      "bottom": null,
      "display": null,
      "flex": null,
      "flex_flow": null,
      "grid_area": null,
      "grid_auto_columns": null,
      "grid_auto_flow": null,
      "grid_auto_rows": null,
      "grid_column": null,
      "grid_gap": null,
      "grid_row": null,
      "grid_template_areas": null,
      "grid_template_columns": null,
      "grid_template_rows": null,
      "height": null,
      "justify_content": null,
      "justify_items": null,
      "left": null,
      "margin": null,
      "max_height": null,
      "max_width": null,
      "min_height": null,
      "min_width": null,
      "object_fit": null,
      "object_position": null,
      "order": null,
      "overflow": null,
      "overflow_x": null,
      "overflow_y": null,
      "padding": null,
      "right": null,
      "top": null,
      "visibility": null,
      "width": null
     }
    },
    "8190f76b57364cd0b82f6164ee3f8a71": {
     "model_module": "@jupyter-widgets/base",
     "model_module_version": "1.2.0",
     "model_name": "LayoutModel",
     "state": {
      "_model_module": "@jupyter-widgets/base",
      "_model_module_version": "1.2.0",
      "_model_name": "LayoutModel",
      "_view_count": null,
      "_view_module": "@jupyter-widgets/base",
      "_view_module_version": "1.2.0",
      "_view_name": "LayoutView",
      "align_content": null,
      "align_items": null,
      "align_self": null,
      "border": null,
      "bottom": null,
      "display": null,
      "flex": null,
      "flex_flow": null,
      "grid_area": null,
      "grid_auto_columns": null,
      "grid_auto_flow": null,
      "grid_auto_rows": null,
      "grid_column": null,
      "grid_gap": null,
      "grid_row": null,
      "grid_template_areas": null,
      "grid_template_columns": null,
      "grid_template_rows": null,
      "height": null,
      "justify_content": null,
      "justify_items": null,
      "left": null,
      "margin": null,
      "max_height": null,
      "max_width": null,
      "min_height": null,
      "min_width": null,
      "object_fit": null,
      "object_position": null,
      "order": null,
      "overflow": null,
      "overflow_x": null,
      "overflow_y": null,
      "padding": null,
      "right": null,
      "top": null,
      "visibility": null,
      "width": null
     }
    },
    "8377ea391f2c4845b7094729a83344cb": {
     "model_module": "@jupyter-widgets/base",
     "model_module_version": "1.2.0",
     "model_name": "LayoutModel",
     "state": {
      "_model_module": "@jupyter-widgets/base",
      "_model_module_version": "1.2.0",
      "_model_name": "LayoutModel",
      "_view_count": null,
      "_view_module": "@jupyter-widgets/base",
      "_view_module_version": "1.2.0",
      "_view_name": "LayoutView",
      "align_content": null,
      "align_items": null,
      "align_self": null,
      "border": null,
      "bottom": null,
      "display": null,
      "flex": null,
      "flex_flow": null,
      "grid_area": null,
      "grid_auto_columns": null,
      "grid_auto_flow": null,
      "grid_auto_rows": null,
      "grid_column": null,
      "grid_gap": null,
      "grid_row": null,
      "grid_template_areas": null,
      "grid_template_columns": null,
      "grid_template_rows": null,
      "height": null,
      "justify_content": null,
      "justify_items": null,
      "left": null,
      "margin": null,
      "max_height": null,
      "max_width": null,
      "min_height": null,
      "min_width": null,
      "object_fit": null,
      "object_position": null,
      "order": null,
      "overflow": null,
      "overflow_x": null,
      "overflow_y": null,
      "padding": null,
      "right": null,
      "top": null,
      "visibility": null,
      "width": null
     }
    },
    "83d9b1d2ea1a42f7974fa98604ab2d0a": {
     "model_module": "@jupyter-widgets/controls",
     "model_module_version": "1.5.0",
     "model_name": "HBoxModel",
     "state": {
      "_dom_classes": [],
      "_model_module": "@jupyter-widgets/controls",
      "_model_module_version": "1.5.0",
      "_model_name": "HBoxModel",
      "_view_count": null,
      "_view_module": "@jupyter-widgets/controls",
      "_view_module_version": "1.5.0",
      "_view_name": "HBoxView",
      "box_style": "",
      "children": [
       "IPY_MODEL_309c908c902f464ba76c330af4e66ab2",
       "IPY_MODEL_11a094bc1582438aa379c33aa804b8dc",
       "IPY_MODEL_a4b7e5c0b88a4e199f11aca290e71903"
      ],
      "layout": "IPY_MODEL_91ded3496772406e936875e1f0283874"
     }
    },
    "91ded3496772406e936875e1f0283874": {
     "model_module": "@jupyter-widgets/base",
     "model_module_version": "1.2.0",
     "model_name": "LayoutModel",
     "state": {
      "_model_module": "@jupyter-widgets/base",
      "_model_module_version": "1.2.0",
      "_model_name": "LayoutModel",
      "_view_count": null,
      "_view_module": "@jupyter-widgets/base",
      "_view_module_version": "1.2.0",
      "_view_name": "LayoutView",
      "align_content": null,
      "align_items": null,
      "align_self": null,
      "border": null,
      "bottom": null,
      "display": null,
      "flex": null,
      "flex_flow": null,
      "grid_area": null,
      "grid_auto_columns": null,
      "grid_auto_flow": null,
      "grid_auto_rows": null,
      "grid_column": null,
      "grid_gap": null,
      "grid_row": null,
      "grid_template_areas": null,
      "grid_template_columns": null,
      "grid_template_rows": null,
      "height": null,
      "justify_content": null,
      "justify_items": null,
      "left": null,
      "margin": null,
      "max_height": null,
      "max_width": null,
      "min_height": null,
      "min_width": null,
      "object_fit": null,
      "object_position": null,
      "order": null,
      "overflow": null,
      "overflow_x": null,
      "overflow_y": null,
      "padding": null,
      "right": null,
      "top": null,
      "visibility": null,
      "width": null
     }
    },
    "9696666b16a24eb0883eed8066a9cff5": {
     "model_module": "@jupyter-widgets/base",
     "model_module_version": "1.2.0",
     "model_name": "LayoutModel",
     "state": {
      "_model_module": "@jupyter-widgets/base",
      "_model_module_version": "1.2.0",
      "_model_name": "LayoutModel",
      "_view_count": null,
      "_view_module": "@jupyter-widgets/base",
      "_view_module_version": "1.2.0",
      "_view_name": "LayoutView",
      "align_content": null,
      "align_items": null,
      "align_self": null,
      "border": null,
      "bottom": null,
      "display": null,
      "flex": null,
      "flex_flow": null,
      "grid_area": null,
      "grid_auto_columns": null,
      "grid_auto_flow": null,
      "grid_auto_rows": null,
      "grid_column": null,
      "grid_gap": null,
      "grid_row": null,
      "grid_template_areas": null,
      "grid_template_columns": null,
      "grid_template_rows": null,
      "height": null,
      "justify_content": null,
      "justify_items": null,
      "left": null,
      "margin": null,
      "max_height": null,
      "max_width": null,
      "min_height": null,
      "min_width": null,
      "object_fit": null,
      "object_position": null,
      "order": null,
      "overflow": null,
      "overflow_x": null,
      "overflow_y": null,
      "padding": null,
      "right": null,
      "top": null,
      "visibility": null,
      "width": null
     }
    },
    "973cff29931e4f288f1eb650e9d04644": {
     "model_module": "@jupyter-widgets/controls",
     "model_module_version": "1.5.0",
     "model_name": "HTMLModel",
     "state": {
      "_dom_classes": [],
      "_model_module": "@jupyter-widgets/controls",
      "_model_module_version": "1.5.0",
      "_model_name": "HTMLModel",
      "_view_count": null,
      "_view_module": "@jupyter-widgets/controls",
      "_view_module_version": "1.5.0",
      "_view_name": "HTMLView",
      "description": "",
      "description_tooltip": null,
      "layout": "IPY_MODEL_4e3e693ac16247e390d6382ffb82bb2c",
      "placeholder": "​",
      "style": "IPY_MODEL_deaf0b93e30e4b4eb28197adb83fe7f7",
      "value": "100%"
     }
    },
    "9822dc6a798342b4bdaabfd04dc7c63d": {
     "model_module": "@jupyter-widgets/controls",
     "model_module_version": "1.5.0",
     "model_name": "DescriptionStyleModel",
     "state": {
      "_model_module": "@jupyter-widgets/controls",
      "_model_module_version": "1.5.0",
      "_model_name": "DescriptionStyleModel",
      "_view_count": null,
      "_view_module": "@jupyter-widgets/base",
      "_view_module_version": "1.2.0",
      "_view_name": "StyleView",
      "description_width": ""
     }
    },
    "989398addeae49dfb00e69507c8cb3fc": {
     "model_module": "@jupyter-widgets/controls",
     "model_module_version": "1.5.0",
     "model_name": "ProgressStyleModel",
     "state": {
      "_model_module": "@jupyter-widgets/controls",
      "_model_module_version": "1.5.0",
      "_model_name": "ProgressStyleModel",
      "_view_count": null,
      "_view_module": "@jupyter-widgets/base",
      "_view_module_version": "1.2.0",
      "_view_name": "StyleView",
      "bar_color": null,
      "description_width": ""
     }
    },
    "9aa65d62510e4d4e8988c1a7e24289b4": {
     "model_module": "@jupyter-widgets/controls",
     "model_module_version": "1.5.0",
     "model_name": "FloatProgressModel",
     "state": {
      "_dom_classes": [],
      "_model_module": "@jupyter-widgets/controls",
      "_model_module_version": "1.5.0",
      "_model_name": "FloatProgressModel",
      "_view_count": null,
      "_view_module": "@jupyter-widgets/controls",
      "_view_module_version": "1.5.0",
      "_view_name": "ProgressView",
      "bar_style": "success",
      "description": "",
      "description_tooltip": null,
      "layout": "IPY_MODEL_51dd8ae3e7b24818950e5631cf96fb6a",
      "max": 2000,
      "min": 0,
      "orientation": "horizontal",
      "style": "IPY_MODEL_2a95918a403e4ab5aab35a201bbbedd1",
      "value": 2000
     }
    },
    "9b9c023188b04e25b8072ad0620efa66": {
     "model_module": "@jupyter-widgets/base",
     "model_module_version": "1.2.0",
     "model_name": "LayoutModel",
     "state": {
      "_model_module": "@jupyter-widgets/base",
      "_model_module_version": "1.2.0",
      "_model_name": "LayoutModel",
      "_view_count": null,
      "_view_module": "@jupyter-widgets/base",
      "_view_module_version": "1.2.0",
      "_view_name": "LayoutView",
      "align_content": null,
      "align_items": null,
      "align_self": null,
      "border": null,
      "bottom": null,
      "display": null,
      "flex": null,
      "flex_flow": null,
      "grid_area": null,
      "grid_auto_columns": null,
      "grid_auto_flow": null,
      "grid_auto_rows": null,
      "grid_column": null,
      "grid_gap": null,
      "grid_row": null,
      "grid_template_areas": null,
      "grid_template_columns": null,
      "grid_template_rows": null,
      "height": null,
      "justify_content": null,
      "justify_items": null,
      "left": null,
      "margin": null,
      "max_height": null,
      "max_width": null,
      "min_height": null,
      "min_width": null,
      "object_fit": null,
      "object_position": null,
      "order": null,
      "overflow": null,
      "overflow_x": null,
      "overflow_y": null,
      "padding": null,
      "right": null,
      "top": null,
      "visibility": null,
      "width": null
     }
    },
    "a1919e85ed0842b78b0e56dd78af4e37": {
     "model_module": "@jupyter-widgets/controls",
     "model_module_version": "1.5.0",
     "model_name": "ProgressStyleModel",
     "state": {
      "_model_module": "@jupyter-widgets/controls",
      "_model_module_version": "1.5.0",
      "_model_name": "ProgressStyleModel",
      "_view_count": null,
      "_view_module": "@jupyter-widgets/base",
      "_view_module_version": "1.2.0",
      "_view_name": "StyleView",
      "bar_color": null,
      "description_width": ""
     }
    },
    "a2b54d52f37a452e93b9da0dc580d1ab": {
     "model_module": "@jupyter-widgets/controls",
     "model_module_version": "1.5.0",
     "model_name": "HTMLModel",
     "state": {
      "_dom_classes": [],
      "_model_module": "@jupyter-widgets/controls",
      "_model_module_version": "1.5.0",
      "_model_name": "HTMLModel",
      "_view_count": null,
      "_view_module": "@jupyter-widgets/controls",
      "_view_module_version": "1.5.0",
      "_view_name": "HTMLView",
      "description": "",
      "description_tooltip": null,
      "layout": "IPY_MODEL_b89ff9575d17481fb03bb7b2f4112d7e",
      "placeholder": "​",
      "style": "IPY_MODEL_55300fff969f4fcd9f04b10a051fe5e6",
      "value": " 2000/2000 [00:14&lt;00:00, 150.06it/s]"
     }
    },
    "a4b7e5c0b88a4e199f11aca290e71903": {
     "model_module": "@jupyter-widgets/controls",
     "model_module_version": "1.5.0",
     "model_name": "HTMLModel",
     "state": {
      "_dom_classes": [],
      "_model_module": "@jupyter-widgets/controls",
      "_model_module_version": "1.5.0",
      "_model_name": "HTMLModel",
      "_view_count": null,
      "_view_module": "@jupyter-widgets/controls",
      "_view_module_version": "1.5.0",
      "_view_name": "HTMLView",
      "description": "",
      "description_tooltip": null,
      "layout": "IPY_MODEL_0c4d5a544b4d4daabdec985ca05b3fd4",
      "placeholder": "​",
      "style": "IPY_MODEL_9822dc6a798342b4bdaabfd04dc7c63d",
      "value": " 2000/2000 [00:14&lt;00:00, 163.41it/s]"
     }
    },
    "a4c0f7fe821d48dfb19a0b03672b2995": {
     "model_module": "@jupyter-widgets/controls",
     "model_module_version": "1.5.0",
     "model_name": "FloatProgressModel",
     "state": {
      "_dom_classes": [],
      "_model_module": "@jupyter-widgets/controls",
      "_model_module_version": "1.5.0",
      "_model_name": "FloatProgressModel",
      "_view_count": null,
      "_view_module": "@jupyter-widgets/controls",
      "_view_module_version": "1.5.0",
      "_view_name": "ProgressView",
      "bar_style": "success",
      "description": "",
      "description_tooltip": null,
      "layout": "IPY_MODEL_9b9c023188b04e25b8072ad0620efa66",
      "max": 2000,
      "min": 0,
      "orientation": "horizontal",
      "style": "IPY_MODEL_b43788d663294cdfa30571e43c8c769a",
      "value": 2000
     }
    },
    "a5e3052c85874457ab1efa82e2b0ef81": {
     "model_module": "@jupyter-widgets/base",
     "model_module_version": "1.2.0",
     "model_name": "LayoutModel",
     "state": {
      "_model_module": "@jupyter-widgets/base",
      "_model_module_version": "1.2.0",
      "_model_name": "LayoutModel",
      "_view_count": null,
      "_view_module": "@jupyter-widgets/base",
      "_view_module_version": "1.2.0",
      "_view_name": "LayoutView",
      "align_content": null,
      "align_items": null,
      "align_self": null,
      "border": null,
      "bottom": null,
      "display": null,
      "flex": null,
      "flex_flow": null,
      "grid_area": null,
      "grid_auto_columns": null,
      "grid_auto_flow": null,
      "grid_auto_rows": null,
      "grid_column": null,
      "grid_gap": null,
      "grid_row": null,
      "grid_template_areas": null,
      "grid_template_columns": null,
      "grid_template_rows": null,
      "height": null,
      "justify_content": null,
      "justify_items": null,
      "left": null,
      "margin": null,
      "max_height": null,
      "max_width": null,
      "min_height": null,
      "min_width": null,
      "object_fit": null,
      "object_position": null,
      "order": null,
      "overflow": null,
      "overflow_x": null,
      "overflow_y": null,
      "padding": null,
      "right": null,
      "top": null,
      "visibility": null,
      "width": null
     }
    },
    "ae1c2615a39349f2a431233866c8341d": {
     "model_module": "@jupyter-widgets/base",
     "model_module_version": "1.2.0",
     "model_name": "LayoutModel",
     "state": {
      "_model_module": "@jupyter-widgets/base",
      "_model_module_version": "1.2.0",
      "_model_name": "LayoutModel",
      "_view_count": null,
      "_view_module": "@jupyter-widgets/base",
      "_view_module_version": "1.2.0",
      "_view_name": "LayoutView",
      "align_content": null,
      "align_items": null,
      "align_self": null,
      "border": null,
      "bottom": null,
      "display": null,
      "flex": null,
      "flex_flow": null,
      "grid_area": null,
      "grid_auto_columns": null,
      "grid_auto_flow": null,
      "grid_auto_rows": null,
      "grid_column": null,
      "grid_gap": null,
      "grid_row": null,
      "grid_template_areas": null,
      "grid_template_columns": null,
      "grid_template_rows": null,
      "height": null,
      "justify_content": null,
      "justify_items": null,
      "left": null,
      "margin": null,
      "max_height": null,
      "max_width": null,
      "min_height": null,
      "min_width": null,
      "object_fit": null,
      "object_position": null,
      "order": null,
      "overflow": null,
      "overflow_x": null,
      "overflow_y": null,
      "padding": null,
      "right": null,
      "top": null,
      "visibility": null,
      "width": null
     }
    },
    "b43788d663294cdfa30571e43c8c769a": {
     "model_module": "@jupyter-widgets/controls",
     "model_module_version": "1.5.0",
     "model_name": "ProgressStyleModel",
     "state": {
      "_model_module": "@jupyter-widgets/controls",
      "_model_module_version": "1.5.0",
      "_model_name": "ProgressStyleModel",
      "_view_count": null,
      "_view_module": "@jupyter-widgets/base",
      "_view_module_version": "1.2.0",
      "_view_name": "StyleView",
      "bar_color": null,
      "description_width": ""
     }
    },
    "b76633ff670c4fd999d968da9164ee0c": {
     "model_module": "@jupyter-widgets/controls",
     "model_module_version": "1.5.0",
     "model_name": "HTMLModel",
     "state": {
      "_dom_classes": [],
      "_model_module": "@jupyter-widgets/controls",
      "_model_module_version": "1.5.0",
      "_model_name": "HTMLModel",
      "_view_count": null,
      "_view_module": "@jupyter-widgets/controls",
      "_view_module_version": "1.5.0",
      "_view_name": "HTMLView",
      "description": "",
      "description_tooltip": null,
      "layout": "IPY_MODEL_cc4cf2625e2d4f14b0202321f8e9fc4c",
      "placeholder": "​",
      "style": "IPY_MODEL_6a6f27b7c6374f9ba778e893d2683171",
      "value": "100%"
     }
    },
    "b784ae9bc55b4717af7bb67b442dc326": {
     "model_module": "@jupyter-widgets/base",
     "model_module_version": "1.2.0",
     "model_name": "LayoutModel",
     "state": {
      "_model_module": "@jupyter-widgets/base",
      "_model_module_version": "1.2.0",
      "_model_name": "LayoutModel",
      "_view_count": null,
      "_view_module": "@jupyter-widgets/base",
      "_view_module_version": "1.2.0",
      "_view_name": "LayoutView",
      "align_content": null,
      "align_items": null,
      "align_self": null,
      "border": null,
      "bottom": null,
      "display": null,
      "flex": null,
      "flex_flow": null,
      "grid_area": null,
      "grid_auto_columns": null,
      "grid_auto_flow": null,
      "grid_auto_rows": null,
      "grid_column": null,
      "grid_gap": null,
      "grid_row": null,
      "grid_template_areas": null,
      "grid_template_columns": null,
      "grid_template_rows": null,
      "height": null,
      "justify_content": null,
      "justify_items": null,
      "left": null,
      "margin": null,
      "max_height": null,
      "max_width": null,
      "min_height": null,
      "min_width": null,
      "object_fit": null,
      "object_position": null,
      "order": null,
      "overflow": null,
      "overflow_x": null,
      "overflow_y": null,
      "padding": null,
      "right": null,
      "top": null,
      "visibility": null,
      "width": null
     }
    },
    "b7a3883db5324f9288fa6d1efec9683c": {
     "model_module": "@jupyter-widgets/controls",
     "model_module_version": "1.5.0",
     "model_name": "HBoxModel",
     "state": {
      "_dom_classes": [],
      "_model_module": "@jupyter-widgets/controls",
      "_model_module_version": "1.5.0",
      "_model_name": "HBoxModel",
      "_view_count": null,
      "_view_module": "@jupyter-widgets/controls",
      "_view_module_version": "1.5.0",
      "_view_name": "HBoxView",
      "box_style": "",
      "children": [
       "IPY_MODEL_e9b5256b8db84353b2413ca8611e46cc",
       "IPY_MODEL_1f356d81d66144a49e12207faa54ac92",
       "IPY_MODEL_f478ab1f5e9540f28a17efac8b2af58e"
      ],
      "layout": "IPY_MODEL_d02c44bee1cf458388c84a988bcf7b73"
     }
    },
    "b89ff9575d17481fb03bb7b2f4112d7e": {
     "model_module": "@jupyter-widgets/base",
     "model_module_version": "1.2.0",
     "model_name": "LayoutModel",
     "state": {
      "_model_module": "@jupyter-widgets/base",
      "_model_module_version": "1.2.0",
      "_model_name": "LayoutModel",
      "_view_count": null,
      "_view_module": "@jupyter-widgets/base",
      "_view_module_version": "1.2.0",
      "_view_name": "LayoutView",
      "align_content": null,
      "align_items": null,
      "align_self": null,
      "border": null,
      "bottom": null,
      "display": null,
      "flex": null,
      "flex_flow": null,
      "grid_area": null,
      "grid_auto_columns": null,
      "grid_auto_flow": null,
      "grid_auto_rows": null,
      "grid_column": null,
      "grid_gap": null,
      "grid_row": null,
      "grid_template_areas": null,
      "grid_template_columns": null,
      "grid_template_rows": null,
      "height": null,
      "justify_content": null,
      "justify_items": null,
      "left": null,
      "margin": null,
      "max_height": null,
      "max_width": null,
      "min_height": null,
      "min_width": null,
      "object_fit": null,
      "object_position": null,
      "order": null,
      "overflow": null,
      "overflow_x": null,
      "overflow_y": null,
      "padding": null,
      "right": null,
      "top": null,
      "visibility": null,
      "width": null
     }
    },
    "bb28a5015c05406890ca6df01c5f260b": {
     "model_module": "@jupyter-widgets/controls",
     "model_module_version": "1.5.0",
     "model_name": "HBoxModel",
     "state": {
      "_dom_classes": [],
      "_model_module": "@jupyter-widgets/controls",
      "_model_module_version": "1.5.0",
      "_model_name": "HBoxModel",
      "_view_count": null,
      "_view_module": "@jupyter-widgets/controls",
      "_view_module_version": "1.5.0",
      "_view_name": "HBoxView",
      "box_style": "",
      "children": [
       "IPY_MODEL_973cff29931e4f288f1eb650e9d04644",
       "IPY_MODEL_a4c0f7fe821d48dfb19a0b03672b2995",
       "IPY_MODEL_f9bbf8d340d845a38426a34d2309dadc"
      ],
      "layout": "IPY_MODEL_8377ea391f2c4845b7094729a83344cb"
     }
    },
    "c1bf2929ff5b4bfeae8f56c828ad4793": {
     "model_module": "@jupyter-widgets/controls",
     "model_module_version": "1.5.0",
     "model_name": "HTMLModel",
     "state": {
      "_dom_classes": [],
      "_model_module": "@jupyter-widgets/controls",
      "_model_module_version": "1.5.0",
      "_model_name": "HTMLModel",
      "_view_count": null,
      "_view_module": "@jupyter-widgets/controls",
      "_view_module_version": "1.5.0",
      "_view_name": "HTMLView",
      "description": "",
      "description_tooltip": null,
      "layout": "IPY_MODEL_687fc79795aa49489ccb11a7e6adbdfb",
      "placeholder": "​",
      "style": "IPY_MODEL_d65468de47de4075b82014450b35dd98",
      "value": "100%"
     }
    },
    "c3b96977a92849ea8f625f0a9d7e493e": {
     "model_module": "@jupyter-widgets/controls",
     "model_module_version": "1.5.0",
     "model_name": "HTMLModel",
     "state": {
      "_dom_classes": [],
      "_model_module": "@jupyter-widgets/controls",
      "_model_module_version": "1.5.0",
      "_model_name": "HTMLModel",
      "_view_count": null,
      "_view_module": "@jupyter-widgets/controls",
      "_view_module_version": "1.5.0",
      "_view_name": "HTMLView",
      "description": "",
      "description_tooltip": null,
      "layout": "IPY_MODEL_a5e3052c85874457ab1efa82e2b0ef81",
      "placeholder": "​",
      "style": "IPY_MODEL_14b3143218c449fa8dcf4e45fe593219",
      "value": " 2000/2000 [00:14&lt;00:00, 93.63it/s]"
     }
    },
    "ca32863785014b3c877ac7ddf0d5f0f3": {
     "model_module": "@jupyter-widgets/controls",
     "model_module_version": "1.5.0",
     "model_name": "HTMLModel",
     "state": {
      "_dom_classes": [],
      "_model_module": "@jupyter-widgets/controls",
      "_model_module_version": "1.5.0",
      "_model_name": "HTMLModel",
      "_view_count": null,
      "_view_module": "@jupyter-widgets/controls",
      "_view_module_version": "1.5.0",
      "_view_name": "HTMLView",
      "description": "",
      "description_tooltip": null,
      "layout": "IPY_MODEL_5e89f171ee28491eac459edbe88cad09",
      "placeholder": "​",
      "style": "IPY_MODEL_1944aeb101c544e1800487549192ff36",
      "value": "100%"
     }
    },
    "cc4cf2625e2d4f14b0202321f8e9fc4c": {
     "model_module": "@jupyter-widgets/base",
     "model_module_version": "1.2.0",
     "model_name": "LayoutModel",
     "state": {
      "_model_module": "@jupyter-widgets/base",
      "_model_module_version": "1.2.0",
      "_model_name": "LayoutModel",
      "_view_count": null,
      "_view_module": "@jupyter-widgets/base",
      "_view_module_version": "1.2.0",
      "_view_name": "LayoutView",
      "align_content": null,
      "align_items": null,
      "align_self": null,
      "border": null,
      "bottom": null,
      "display": null,
      "flex": null,
      "flex_flow": null,
      "grid_area": null,
      "grid_auto_columns": null,
      "grid_auto_flow": null,
      "grid_auto_rows": null,
      "grid_column": null,
      "grid_gap": null,
      "grid_row": null,
      "grid_template_areas": null,
      "grid_template_columns": null,
      "grid_template_rows": null,
      "height": null,
      "justify_content": null,
      "justify_items": null,
      "left": null,
      "margin": null,
      "max_height": null,
      "max_width": null,
      "min_height": null,
      "min_width": null,
      "object_fit": null,
      "object_position": null,
      "order": null,
      "overflow": null,
      "overflow_x": null,
      "overflow_y": null,
      "padding": null,
      "right": null,
      "top": null,
      "visibility": null,
      "width": null
     }
    },
    "cdc218cf2ec94a1cadcc93adcbb7ee58": {
     "model_module": "@jupyter-widgets/base",
     "model_module_version": "1.2.0",
     "model_name": "LayoutModel",
     "state": {
      "_model_module": "@jupyter-widgets/base",
      "_model_module_version": "1.2.0",
      "_model_name": "LayoutModel",
      "_view_count": null,
      "_view_module": "@jupyter-widgets/base",
      "_view_module_version": "1.2.0",
      "_view_name": "LayoutView",
      "align_content": null,
      "align_items": null,
      "align_self": null,
      "border": null,
      "bottom": null,
      "display": null,
      "flex": null,
      "flex_flow": null,
      "grid_area": null,
      "grid_auto_columns": null,
      "grid_auto_flow": null,
      "grid_auto_rows": null,
      "grid_column": null,
      "grid_gap": null,
      "grid_row": null,
      "grid_template_areas": null,
      "grid_template_columns": null,
      "grid_template_rows": null,
      "height": null,
      "justify_content": null,
      "justify_items": null,
      "left": null,
      "margin": null,
      "max_height": null,
      "max_width": null,
      "min_height": null,
      "min_width": null,
      "object_fit": null,
      "object_position": null,
      "order": null,
      "overflow": null,
      "overflow_x": null,
      "overflow_y": null,
      "padding": null,
      "right": null,
      "top": null,
      "visibility": null,
      "width": null
     }
    },
    "d02c44bee1cf458388c84a988bcf7b73": {
     "model_module": "@jupyter-widgets/base",
     "model_module_version": "1.2.0",
     "model_name": "LayoutModel",
     "state": {
      "_model_module": "@jupyter-widgets/base",
      "_model_module_version": "1.2.0",
      "_model_name": "LayoutModel",
      "_view_count": null,
      "_view_module": "@jupyter-widgets/base",
      "_view_module_version": "1.2.0",
      "_view_name": "LayoutView",
      "align_content": null,
      "align_items": null,
      "align_self": null,
      "border": null,
      "bottom": null,
      "display": null,
      "flex": null,
      "flex_flow": null,
      "grid_area": null,
      "grid_auto_columns": null,
      "grid_auto_flow": null,
      "grid_auto_rows": null,
      "grid_column": null,
      "grid_gap": null,
      "grid_row": null,
      "grid_template_areas": null,
      "grid_template_columns": null,
      "grid_template_rows": null,
      "height": null,
      "justify_content": null,
      "justify_items": null,
      "left": null,
      "margin": null,
      "max_height": null,
      "max_width": null,
      "min_height": null,
      "min_width": null,
      "object_fit": null,
      "object_position": null,
      "order": null,
      "overflow": null,
      "overflow_x": null,
      "overflow_y": null,
      "padding": null,
      "right": null,
      "top": null,
      "visibility": null,
      "width": null
     }
    },
    "d2eab5f7d8fb41628da6bd7d8ccd5ce0": {
     "model_module": "@jupyter-widgets/base",
     "model_module_version": "1.2.0",
     "model_name": "LayoutModel",
     "state": {
      "_model_module": "@jupyter-widgets/base",
      "_model_module_version": "1.2.0",
      "_model_name": "LayoutModel",
      "_view_count": null,
      "_view_module": "@jupyter-widgets/base",
      "_view_module_version": "1.2.0",
      "_view_name": "LayoutView",
      "align_content": null,
      "align_items": null,
      "align_self": null,
      "border": null,
      "bottom": null,
      "display": null,
      "flex": null,
      "flex_flow": null,
      "grid_area": null,
      "grid_auto_columns": null,
      "grid_auto_flow": null,
      "grid_auto_rows": null,
      "grid_column": null,
      "grid_gap": null,
      "grid_row": null,
      "grid_template_areas": null,
      "grid_template_columns": null,
      "grid_template_rows": null,
      "height": null,
      "justify_content": null,
      "justify_items": null,
      "left": null,
      "margin": null,
      "max_height": null,
      "max_width": null,
      "min_height": null,
      "min_width": null,
      "object_fit": null,
      "object_position": null,
      "order": null,
      "overflow": null,
      "overflow_x": null,
      "overflow_y": null,
      "padding": null,
      "right": null,
      "top": null,
      "visibility": null,
      "width": null
     }
    },
    "d65468de47de4075b82014450b35dd98": {
     "model_module": "@jupyter-widgets/controls",
     "model_module_version": "1.5.0",
     "model_name": "DescriptionStyleModel",
     "state": {
      "_model_module": "@jupyter-widgets/controls",
      "_model_module_version": "1.5.0",
      "_model_name": "DescriptionStyleModel",
      "_view_count": null,
      "_view_module": "@jupyter-widgets/base",
      "_view_module_version": "1.2.0",
      "_view_name": "StyleView",
      "description_width": ""
     }
    },
    "db7fad4294144b37964340cb8e6ada84": {
     "model_module": "@jupyter-widgets/controls",
     "model_module_version": "1.5.0",
     "model_name": "HTMLModel",
     "state": {
      "_dom_classes": [],
      "_model_module": "@jupyter-widgets/controls",
      "_model_module_version": "1.5.0",
      "_model_name": "HTMLModel",
      "_view_count": null,
      "_view_module": "@jupyter-widgets/controls",
      "_view_module_version": "1.5.0",
      "_view_name": "HTMLView",
      "description": "",
      "description_tooltip": null,
      "layout": "IPY_MODEL_f172a84b35b940638388d02657616a5a",
      "placeholder": "​",
      "style": "IPY_MODEL_4f8df32697a14180a4cca08783f77483",
      "value": " 2000/2000 [00:22&lt;00:00, 100.02it/s]"
     }
    },
    "dce3b8dabf6847bea93c4551e61443ec": {
     "model_module": "@jupyter-widgets/controls",
     "model_module_version": "1.5.0",
     "model_name": "DescriptionStyleModel",
     "state": {
      "_model_module": "@jupyter-widgets/controls",
      "_model_module_version": "1.5.0",
      "_model_name": "DescriptionStyleModel",
      "_view_count": null,
      "_view_module": "@jupyter-widgets/base",
      "_view_module_version": "1.2.0",
      "_view_name": "StyleView",
      "description_width": ""
     }
    },
    "deaf0b93e30e4b4eb28197adb83fe7f7": {
     "model_module": "@jupyter-widgets/controls",
     "model_module_version": "1.5.0",
     "model_name": "DescriptionStyleModel",
     "state": {
      "_model_module": "@jupyter-widgets/controls",
      "_model_module_version": "1.5.0",
      "_model_name": "DescriptionStyleModel",
      "_view_count": null,
      "_view_module": "@jupyter-widgets/base",
      "_view_module_version": "1.2.0",
      "_view_name": "StyleView",
      "description_width": ""
     }
    },
    "e27a5dab06754c2fbee7b1686f0d1e35": {
     "model_module": "@jupyter-widgets/base",
     "model_module_version": "1.2.0",
     "model_name": "LayoutModel",
     "state": {
      "_model_module": "@jupyter-widgets/base",
      "_model_module_version": "1.2.0",
      "_model_name": "LayoutModel",
      "_view_count": null,
      "_view_module": "@jupyter-widgets/base",
      "_view_module_version": "1.2.0",
      "_view_name": "LayoutView",
      "align_content": null,
      "align_items": null,
      "align_self": null,
      "border": null,
      "bottom": null,
      "display": null,
      "flex": null,
      "flex_flow": null,
      "grid_area": null,
      "grid_auto_columns": null,
      "grid_auto_flow": null,
      "grid_auto_rows": null,
      "grid_column": null,
      "grid_gap": null,
      "grid_row": null,
      "grid_template_areas": null,
      "grid_template_columns": null,
      "grid_template_rows": null,
      "height": null,
      "justify_content": null,
      "justify_items": null,
      "left": null,
      "margin": null,
      "max_height": null,
      "max_width": null,
      "min_height": null,
      "min_width": null,
      "object_fit": null,
      "object_position": null,
      "order": null,
      "overflow": null,
      "overflow_x": null,
      "overflow_y": null,
      "padding": null,
      "right": null,
      "top": null,
      "visibility": null,
      "width": null
     }
    },
    "e506cd938284411181d28d0c76042a4a": {
     "model_module": "@jupyter-widgets/base",
     "model_module_version": "1.2.0",
     "model_name": "LayoutModel",
     "state": {
      "_model_module": "@jupyter-widgets/base",
      "_model_module_version": "1.2.0",
      "_model_name": "LayoutModel",
      "_view_count": null,
      "_view_module": "@jupyter-widgets/base",
      "_view_module_version": "1.2.0",
      "_view_name": "LayoutView",
      "align_content": null,
      "align_items": null,
      "align_self": null,
      "border": null,
      "bottom": null,
      "display": null,
      "flex": null,
      "flex_flow": null,
      "grid_area": null,
      "grid_auto_columns": null,
      "grid_auto_flow": null,
      "grid_auto_rows": null,
      "grid_column": null,
      "grid_gap": null,
      "grid_row": null,
      "grid_template_areas": null,
      "grid_template_columns": null,
      "grid_template_rows": null,
      "height": null,
      "justify_content": null,
      "justify_items": null,
      "left": null,
      "margin": null,
      "max_height": null,
      "max_width": null,
      "min_height": null,
      "min_width": null,
      "object_fit": null,
      "object_position": null,
      "order": null,
      "overflow": null,
      "overflow_x": null,
      "overflow_y": null,
      "padding": null,
      "right": null,
      "top": null,
      "visibility": null,
      "width": null
     }
    },
    "e77886777d874781ba7ec902cc280e3d": {
     "model_module": "@jupyter-widgets/controls",
     "model_module_version": "1.5.0",
     "model_name": "DescriptionStyleModel",
     "state": {
      "_model_module": "@jupyter-widgets/controls",
      "_model_module_version": "1.5.0",
      "_model_name": "DescriptionStyleModel",
      "_view_count": null,
      "_view_module": "@jupyter-widgets/base",
      "_view_module_version": "1.2.0",
      "_view_name": "StyleView",
      "description_width": ""
     }
    },
    "e9b5256b8db84353b2413ca8611e46cc": {
     "model_module": "@jupyter-widgets/controls",
     "model_module_version": "1.5.0",
     "model_name": "HTMLModel",
     "state": {
      "_dom_classes": [],
      "_model_module": "@jupyter-widgets/controls",
      "_model_module_version": "1.5.0",
      "_model_name": "HTMLModel",
      "_view_count": null,
      "_view_module": "@jupyter-widgets/controls",
      "_view_module_version": "1.5.0",
      "_view_name": "HTMLView",
      "description": "",
      "description_tooltip": null,
      "layout": "IPY_MODEL_cdc218cf2ec94a1cadcc93adcbb7ee58",
      "placeholder": "​",
      "style": "IPY_MODEL_40ce87ec9d55486ea13b9299b87892b0",
      "value": "100%"
     }
    },
    "ec3230cff3554a95a06b408976068c26": {
     "model_module": "@jupyter-widgets/controls",
     "model_module_version": "1.5.0",
     "model_name": "HBoxModel",
     "state": {
      "_dom_classes": [],
      "_model_module": "@jupyter-widgets/controls",
      "_model_module_version": "1.5.0",
      "_model_name": "HBoxModel",
      "_view_count": null,
      "_view_module": "@jupyter-widgets/controls",
      "_view_module_version": "1.5.0",
      "_view_name": "HBoxView",
      "box_style": "",
      "children": [
       "IPY_MODEL_b76633ff670c4fd999d968da9164ee0c",
       "IPY_MODEL_9aa65d62510e4d4e8988c1a7e24289b4",
       "IPY_MODEL_4cd3769c582b495bb4a9499a4c964b15"
      ],
      "layout": "IPY_MODEL_6afdb032cebe4a6087008c44655738ef"
     }
    },
    "ee017c33344d41d9833c10355d0d2a9e": {
     "model_module": "@jupyter-widgets/controls",
     "model_module_version": "1.5.0",
     "model_name": "HTMLModel",
     "state": {
      "_dom_classes": [],
      "_model_module": "@jupyter-widgets/controls",
      "_model_module_version": "1.5.0",
      "_model_name": "HTMLModel",
      "_view_count": null,
      "_view_module": "@jupyter-widgets/controls",
      "_view_module_version": "1.5.0",
      "_view_name": "HTMLView",
      "description": "",
      "description_tooltip": null,
      "layout": "IPY_MODEL_f52ca65d72e14c66b54acf00531e2681",
      "placeholder": "​",
      "style": "IPY_MODEL_e77886777d874781ba7ec902cc280e3d",
      "value": "100%"
     }
    },
    "eeb2c5877be1449e95fd622850a1b481": {
     "model_module": "@jupyter-widgets/base",
     "model_module_version": "1.2.0",
     "model_name": "LayoutModel",
     "state": {
      "_model_module": "@jupyter-widgets/base",
      "_model_module_version": "1.2.0",
      "_model_name": "LayoutModel",
      "_view_count": null,
      "_view_module": "@jupyter-widgets/base",
      "_view_module_version": "1.2.0",
      "_view_name": "LayoutView",
      "align_content": null,
      "align_items": null,
      "align_self": null,
      "border": null,
      "bottom": null,
      "display": null,
      "flex": null,
      "flex_flow": null,
      "grid_area": null,
      "grid_auto_columns": null,
      "grid_auto_flow": null,
      "grid_auto_rows": null,
      "grid_column": null,
      "grid_gap": null,
      "grid_row": null,
      "grid_template_areas": null,
      "grid_template_columns": null,
      "grid_template_rows": null,
      "height": null,
      "justify_content": null,
      "justify_items": null,
      "left": null,
      "margin": null,
      "max_height": null,
      "max_width": null,
      "min_height": null,
      "min_width": null,
      "object_fit": null,
      "object_position": null,
      "order": null,
      "overflow": null,
      "overflow_x": null,
      "overflow_y": null,
      "padding": null,
      "right": null,
      "top": null,
      "visibility": null,
      "width": null
     }
    },
    "ef69ea68f5264236a8b116bb989e6ad5": {
     "model_module": "@jupyter-widgets/base",
     "model_module_version": "1.2.0",
     "model_name": "LayoutModel",
     "state": {
      "_model_module": "@jupyter-widgets/base",
      "_model_module_version": "1.2.0",
      "_model_name": "LayoutModel",
      "_view_count": null,
      "_view_module": "@jupyter-widgets/base",
      "_view_module_version": "1.2.0",
      "_view_name": "LayoutView",
      "align_content": null,
      "align_items": null,
      "align_self": null,
      "border": null,
      "bottom": null,
      "display": null,
      "flex": null,
      "flex_flow": null,
      "grid_area": null,
      "grid_auto_columns": null,
      "grid_auto_flow": null,
      "grid_auto_rows": null,
      "grid_column": null,
      "grid_gap": null,
      "grid_row": null,
      "grid_template_areas": null,
      "grid_template_columns": null,
      "grid_template_rows": null,
      "height": null,
      "justify_content": null,
      "justify_items": null,
      "left": null,
      "margin": null,
      "max_height": null,
      "max_width": null,
      "min_height": null,
      "min_width": null,
      "object_fit": null,
      "object_position": null,
      "order": null,
      "overflow": null,
      "overflow_x": null,
      "overflow_y": null,
      "padding": null,
      "right": null,
      "top": null,
      "visibility": null,
      "width": null
     }
    },
    "f172a84b35b940638388d02657616a5a": {
     "model_module": "@jupyter-widgets/base",
     "model_module_version": "1.2.0",
     "model_name": "LayoutModel",
     "state": {
      "_model_module": "@jupyter-widgets/base",
      "_model_module_version": "1.2.0",
      "_model_name": "LayoutModel",
      "_view_count": null,
      "_view_module": "@jupyter-widgets/base",
      "_view_module_version": "1.2.0",
      "_view_name": "LayoutView",
      "align_content": null,
      "align_items": null,
      "align_self": null,
      "border": null,
      "bottom": null,
      "display": null,
      "flex": null,
      "flex_flow": null,
      "grid_area": null,
      "grid_auto_columns": null,
      "grid_auto_flow": null,
      "grid_auto_rows": null,
      "grid_column": null,
      "grid_gap": null,
      "grid_row": null,
      "grid_template_areas": null,
      "grid_template_columns": null,
      "grid_template_rows": null,
      "height": null,
      "justify_content": null,
      "justify_items": null,
      "left": null,
      "margin": null,
      "max_height": null,
      "max_width": null,
      "min_height": null,
      "min_width": null,
      "object_fit": null,
      "object_position": null,
      "order": null,
      "overflow": null,
      "overflow_x": null,
      "overflow_y": null,
      "padding": null,
      "right": null,
      "top": null,
      "visibility": null,
      "width": null
     }
    },
    "f235c04f702547a39acf55b57f21f733": {
     "model_module": "@jupyter-widgets/controls",
     "model_module_version": "1.5.0",
     "model_name": "ProgressStyleModel",
     "state": {
      "_model_module": "@jupyter-widgets/controls",
      "_model_module_version": "1.5.0",
      "_model_name": "ProgressStyleModel",
      "_view_count": null,
      "_view_module": "@jupyter-widgets/base",
      "_view_module_version": "1.2.0",
      "_view_name": "StyleView",
      "bar_color": null,
      "description_width": ""
     }
    },
    "f478ab1f5e9540f28a17efac8b2af58e": {
     "model_module": "@jupyter-widgets/controls",
     "model_module_version": "1.5.0",
     "model_name": "HTMLModel",
     "state": {
      "_dom_classes": [],
      "_model_module": "@jupyter-widgets/controls",
      "_model_module_version": "1.5.0",
      "_model_name": "HTMLModel",
      "_view_count": null,
      "_view_module": "@jupyter-widgets/controls",
      "_view_module_version": "1.5.0",
      "_view_name": "HTMLView",
      "description": "",
      "description_tooltip": null,
      "layout": "IPY_MODEL_eeb2c5877be1449e95fd622850a1b481",
      "placeholder": "​",
      "style": "IPY_MODEL_1fde9791dc2e4f68bfe334275ef138ba",
      "value": " 1200/1200 [00:14&lt;00:00, 98.87it/s]"
     }
    },
    "f52ca65d72e14c66b54acf00531e2681": {
     "model_module": "@jupyter-widgets/base",
     "model_module_version": "1.2.0",
     "model_name": "LayoutModel",
     "state": {
      "_model_module": "@jupyter-widgets/base",
      "_model_module_version": "1.2.0",
      "_model_name": "LayoutModel",
      "_view_count": null,
      "_view_module": "@jupyter-widgets/base",
      "_view_module_version": "1.2.0",
      "_view_name": "LayoutView",
      "align_content": null,
      "align_items": null,
      "align_self": null,
      "border": null,
      "bottom": null,
      "display": null,
      "flex": null,
      "flex_flow": null,
      "grid_area": null,
      "grid_auto_columns": null,
      "grid_auto_flow": null,
      "grid_auto_rows": null,
      "grid_column": null,
      "grid_gap": null,
      "grid_row": null,
      "grid_template_areas": null,
      "grid_template_columns": null,
      "grid_template_rows": null,
      "height": null,
      "justify_content": null,
      "justify_items": null,
      "left": null,
      "margin": null,
      "max_height": null,
      "max_width": null,
      "min_height": null,
      "min_width": null,
      "object_fit": null,
      "object_position": null,
      "order": null,
      "overflow": null,
      "overflow_x": null,
      "overflow_y": null,
      "padding": null,
      "right": null,
      "top": null,
      "visibility": null,
      "width": null
     }
    },
    "f9bbf8d340d845a38426a34d2309dadc": {
     "model_module": "@jupyter-widgets/controls",
     "model_module_version": "1.5.0",
     "model_name": "HTMLModel",
     "state": {
      "_dom_classes": [],
      "_model_module": "@jupyter-widgets/controls",
      "_model_module_version": "1.5.0",
      "_model_name": "HTMLModel",
      "_view_count": null,
      "_view_module": "@jupyter-widgets/controls",
      "_view_module_version": "1.5.0",
      "_view_name": "HTMLView",
      "description": "",
      "description_tooltip": null,
      "layout": "IPY_MODEL_7c31361edcff41e28e97e8c0f7a1bb3f",
      "placeholder": "​",
      "style": "IPY_MODEL_12c755c6024f4495aa34ec8300e639d7",
      "value": " 2000/2000 [00:15&lt;00:00, 151.30it/s]"
     }
    },
    "fc7964a5b2a0459380a8ad7fe508874d": {
     "model_module": "@jupyter-widgets/base",
     "model_module_version": "1.2.0",
     "model_name": "LayoutModel",
     "state": {
      "_model_module": "@jupyter-widgets/base",
      "_model_module_version": "1.2.0",
      "_model_name": "LayoutModel",
      "_view_count": null,
      "_view_module": "@jupyter-widgets/base",
      "_view_module_version": "1.2.0",
      "_view_name": "LayoutView",
      "align_content": null,
      "align_items": null,
      "align_self": null,
      "border": null,
      "bottom": null,
      "display": null,
      "flex": null,
      "flex_flow": null,
      "grid_area": null,
      "grid_auto_columns": null,
      "grid_auto_flow": null,
      "grid_auto_rows": null,
      "grid_column": null,
      "grid_gap": null,
      "grid_row": null,
      "grid_template_areas": null,
      "grid_template_columns": null,
      "grid_template_rows": null,
      "height": null,
      "justify_content": null,
      "justify_items": null,
      "left": null,
      "margin": null,
      "max_height": null,
      "max_width": null,
      "min_height": null,
      "min_width": null,
      "object_fit": null,
      "object_position": null,
      "order": null,
      "overflow": null,
      "overflow_x": null,
      "overflow_y": null,
      "padding": null,
      "right": null,
      "top": null,
      "visibility": null,
      "width": null
     }
    },
    "fca0674ea0fb4cc5882fbcea1f69ff36": {
     "model_module": "@jupyter-widgets/controls",
     "model_module_version": "1.5.0",
     "model_name": "ProgressStyleModel",
     "state": {
      "_model_module": "@jupyter-widgets/controls",
      "_model_module_version": "1.5.0",
      "_model_name": "ProgressStyleModel",
      "_view_count": null,
      "_view_module": "@jupyter-widgets/base",
      "_view_module_version": "1.2.0",
      "_view_name": "StyleView",
      "bar_color": null,
      "description_width": ""
     }
    },
    "ff47052f31a3456ebb9e818957f38a8d": {
     "model_module": "@jupyter-widgets/controls",
     "model_module_version": "1.5.0",
     "model_name": "DescriptionStyleModel",
     "state": {
      "_model_module": "@jupyter-widgets/controls",
      "_model_module_version": "1.5.0",
      "_model_name": "DescriptionStyleModel",
      "_view_count": null,
      "_view_module": "@jupyter-widgets/base",
      "_view_module_version": "1.2.0",
      "_view_name": "StyleView",
      "description_width": ""
     }
    },
    "state": {}
   }
  }
 },
 "nbformat": 4,
 "nbformat_minor": 0
}
